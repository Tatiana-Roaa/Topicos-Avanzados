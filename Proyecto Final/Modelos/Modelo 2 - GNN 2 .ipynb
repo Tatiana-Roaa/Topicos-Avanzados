{
  "nbformat": 4,
  "nbformat_minor": 0,
  "metadata": {
    "colab": {
      "provenance": []
    },
    "kernelspec": {
      "name": "python3",
      "display_name": "Python 3"
    },
    "language_info": {
      "name": "python"
    }
  },
  "cells": [
    {
      "cell_type": "code",
      "source": [
        "\n",
        "!pip install torch torchvision\n",
        "!pip install torch-geometric"
      ],
      "metadata": {
        "colab": {
          "base_uri": "https://localhost:8080/"
        },
        "id": "ISDkZknVdZXd",
        "outputId": "152b4c08-3bba-410d-85cb-d6119839e425"
      },
      "execution_count": 2,
      "outputs": [
        {
          "output_type": "stream",
          "name": "stdout",
          "text": [
            "Requirement already satisfied: torch in /usr/local/lib/python3.10/dist-packages (2.5.0+cu121)\n",
            "Requirement already satisfied: torchvision in /usr/local/lib/python3.10/dist-packages (0.20.0+cu121)\n",
            "Requirement already satisfied: filelock in /usr/local/lib/python3.10/dist-packages (from torch) (3.16.1)\n",
            "Requirement already satisfied: typing-extensions>=4.8.0 in /usr/local/lib/python3.10/dist-packages (from torch) (4.12.2)\n",
            "Requirement already satisfied: networkx in /usr/local/lib/python3.10/dist-packages (from torch) (3.4.2)\n",
            "Requirement already satisfied: jinja2 in /usr/local/lib/python3.10/dist-packages (from torch) (3.1.4)\n",
            "Requirement already satisfied: fsspec in /usr/local/lib/python3.10/dist-packages (from torch) (2024.10.0)\n",
            "Requirement already satisfied: sympy==1.13.1 in /usr/local/lib/python3.10/dist-packages (from torch) (1.13.1)\n",
            "Requirement already satisfied: mpmath<1.4,>=1.1.0 in /usr/local/lib/python3.10/dist-packages (from sympy==1.13.1->torch) (1.3.0)\n",
            "Requirement already satisfied: numpy in /usr/local/lib/python3.10/dist-packages (from torchvision) (1.26.4)\n",
            "Requirement already satisfied: pillow!=8.3.*,>=5.3.0 in /usr/local/lib/python3.10/dist-packages (from torchvision) (10.4.0)\n",
            "Requirement already satisfied: MarkupSafe>=2.0 in /usr/local/lib/python3.10/dist-packages (from jinja2->torch) (3.0.2)\n",
            "Collecting torch-geometric\n",
            "  Downloading torch_geometric-2.6.1-py3-none-any.whl.metadata (63 kB)\n",
            "\u001b[2K     \u001b[90m━━━━━━━━━━━━━━━━━━━━━━━━━━━━━━━━━━━━━━━━\u001b[0m \u001b[32m63.1/63.1 kB\u001b[0m \u001b[31m1.4 MB/s\u001b[0m eta \u001b[36m0:00:00\u001b[0m\n",
            "\u001b[?25hRequirement already satisfied: aiohttp in /usr/local/lib/python3.10/dist-packages (from torch-geometric) (3.10.10)\n",
            "Requirement already satisfied: fsspec in /usr/local/lib/python3.10/dist-packages (from torch-geometric) (2024.10.0)\n",
            "Requirement already satisfied: jinja2 in /usr/local/lib/python3.10/dist-packages (from torch-geometric) (3.1.4)\n",
            "Requirement already satisfied: numpy in /usr/local/lib/python3.10/dist-packages (from torch-geometric) (1.26.4)\n",
            "Requirement already satisfied: psutil>=5.8.0 in /usr/local/lib/python3.10/dist-packages (from torch-geometric) (5.9.5)\n",
            "Requirement already satisfied: pyparsing in /usr/local/lib/python3.10/dist-packages (from torch-geometric) (3.2.0)\n",
            "Requirement already satisfied: requests in /usr/local/lib/python3.10/dist-packages (from torch-geometric) (2.32.3)\n",
            "Requirement already satisfied: tqdm in /usr/local/lib/python3.10/dist-packages (from torch-geometric) (4.66.6)\n",
            "Requirement already satisfied: aiohappyeyeballs>=2.3.0 in /usr/local/lib/python3.10/dist-packages (from aiohttp->torch-geometric) (2.4.3)\n",
            "Requirement already satisfied: aiosignal>=1.1.2 in /usr/local/lib/python3.10/dist-packages (from aiohttp->torch-geometric) (1.3.1)\n",
            "Requirement already satisfied: attrs>=17.3.0 in /usr/local/lib/python3.10/dist-packages (from aiohttp->torch-geometric) (24.2.0)\n",
            "Requirement already satisfied: frozenlist>=1.1.1 in /usr/local/lib/python3.10/dist-packages (from aiohttp->torch-geometric) (1.5.0)\n",
            "Requirement already satisfied: multidict<7.0,>=4.5 in /usr/local/lib/python3.10/dist-packages (from aiohttp->torch-geometric) (6.1.0)\n",
            "Requirement already satisfied: yarl<2.0,>=1.12.0 in /usr/local/lib/python3.10/dist-packages (from aiohttp->torch-geometric) (1.17.0)\n",
            "Requirement already satisfied: async-timeout<5.0,>=4.0 in /usr/local/lib/python3.10/dist-packages (from aiohttp->torch-geometric) (4.0.3)\n",
            "Requirement already satisfied: MarkupSafe>=2.0 in /usr/local/lib/python3.10/dist-packages (from jinja2->torch-geometric) (3.0.2)\n",
            "Requirement already satisfied: charset-normalizer<4,>=2 in /usr/local/lib/python3.10/dist-packages (from requests->torch-geometric) (3.4.0)\n",
            "Requirement already satisfied: idna<4,>=2.5 in /usr/local/lib/python3.10/dist-packages (from requests->torch-geometric) (3.10)\n",
            "Requirement already satisfied: urllib3<3,>=1.21.1 in /usr/local/lib/python3.10/dist-packages (from requests->torch-geometric) (2.2.3)\n",
            "Requirement already satisfied: certifi>=2017.4.17 in /usr/local/lib/python3.10/dist-packages (from requests->torch-geometric) (2024.8.30)\n",
            "Requirement already satisfied: typing-extensions>=4.1.0 in /usr/local/lib/python3.10/dist-packages (from multidict<7.0,>=4.5->aiohttp->torch-geometric) (4.12.2)\n",
            "Requirement already satisfied: propcache>=0.2.0 in /usr/local/lib/python3.10/dist-packages (from yarl<2.0,>=1.12.0->aiohttp->torch-geometric) (0.2.0)\n",
            "Downloading torch_geometric-2.6.1-py3-none-any.whl (1.1 MB)\n",
            "\u001b[2K   \u001b[90m━━━━━━━━━━━━━━━━━━━━━━━━━━━━━━━━━━━━━━━━\u001b[0m \u001b[32m1.1/1.1 MB\u001b[0m \u001b[31m15.6 MB/s\u001b[0m eta \u001b[36m0:00:00\u001b[0m\n",
            "\u001b[?25hInstalling collected packages: torch-geometric\n",
            "Successfully installed torch-geometric-2.6.1\n"
          ]
        }
      ]
    },
    {
      "cell_type": "code",
      "execution_count": 3,
      "metadata": {
        "colab": {
          "base_uri": "https://localhost:8080/"
        },
        "id": "JUNlzINuc8i5",
        "outputId": "442b5445-6ed0-4e6c-d48c-e45618719fc9"
      },
      "outputs": [
        {
          "output_type": "execute_result",
          "data": {
            "text/plain": [
              "device(type='cpu')"
            ]
          },
          "metadata": {},
          "execution_count": 3
        }
      ],
      "source": [
        "import os.path as osp\n",
        "import torch\n",
        "import pandas as pd\n",
        "from torch_geometric.datasets import Amazon\n",
        "import torch_geometric.transforms as T\n",
        "import numpy as np\n",
        "import random\n",
        "from itertools import product\n",
        "import matplotlib.pyplot as plt\n",
        "import seaborn as sns\n",
        "\n",
        "torch.manual_seed(1)\n",
        "torch.cuda.manual_seed(1)\n",
        "torch.cuda.manual_seed_all(1)\n",
        "torch.backends.cudnn.deterministic = True\n",
        "torch.backends.cudnn.benchmark = False\n",
        "\n",
        "device = torch.device('cuda' if torch.cuda.is_available() else 'cpu')\n",
        "device"
      ]
    },
    {
      "cell_type": "code",
      "source": [
        "# Carga del dataset\n",
        "path = osp.join('.', 'data', 'Computers', 'Computers')\n",
        "dataset = Amazon(path, 'Computers', transform=T.NormalizeFeatures())\n",
        "data = dataset[0]\n",
        "print(dataset.data)"
      ],
      "metadata": {
        "colab": {
          "base_uri": "https://localhost:8080/"
        },
        "id": "l746IKcTdpC9",
        "outputId": "7fbacb7e-50f9-4565-bc8c-f9b87bd6d570"
      },
      "execution_count": 4,
      "outputs": [
        {
          "output_type": "stream",
          "name": "stderr",
          "text": [
            "Downloading https://github.com/shchur/gnn-benchmark/raw/master/data/npz/amazon_electronics_computers.npz\n",
            "Processing...\n"
          ]
        },
        {
          "output_type": "stream",
          "name": "stdout",
          "text": [
            "Data(x=[13752, 767], edge_index=[2, 491722], y=[13752])\n"
          ]
        },
        {
          "output_type": "stream",
          "name": "stderr",
          "text": [
            "Done!\n",
            "/usr/local/lib/python3.10/dist-packages/torch_geometric/data/in_memory_dataset.py:300: UserWarning: It is not recommended to directly access the internal storage format `data` of an 'InMemoryDataset'. If you are absolutely certain what you are doing, access the internal storage via `InMemoryDataset._data` instead to suppress this warning. Alternatively, you can access stacked individual attributes of every graph via `dataset.{attr_name}`.\n",
            "  warnings.warn(msg)\n"
          ]
        }
      ]
    },
    {
      "cell_type": "markdown",
      "source": [
        "\n",
        "# 3 capas en la red\n",
        "*   Contiene normalización de matriz de adyacencia\n",
        "*   Incluye Dropout 0,4\n",
        "\n"
      ],
      "metadata": {
        "id": "-LgkTV-RAfql"
      }
    },
    {
      "cell_type": "code",
      "source": [
        "import torch\n",
        "torch.manual_seed(0)\n",
        "from torch.nn import Linear\n",
        "import torch.nn.functional as F\n",
        "from torch_geometric.utils import add_self_loops, degree\n",
        "from torch_geometric.datasets import Amazon\n",
        "\n",
        "# Import dataset from PyTorch Geometric\n",
        "dataset = Amazon(root=\".\", name=\"Computers\")\n",
        "data = dataset[0]\n",
        "\n",
        "# Define train, validation, and test masks\n",
        "num_nodes = data.num_nodes\n",
        "train_mask = torch.arange(int(num_nodes * 0.6))\n",
        "test_mask = torch.arange(int(num_nodes * 0.6), int(num_nodes * 0.9))\n",
        "val_mask = torch.arange(int(num_nodes * 0.9), num_nodes)\n",
        "\n",
        "# Apply the masks to the data\n",
        "data.train_mask = train_mask\n",
        "data.val_mask = val_mask\n",
        "data.test_mask = test_mask\n",
        "\n",
        "# Normalizing adjacency matrix\n",
        "def normalize_adj(edge_index, num_nodes):\n",
        "    # Adding self-loops to the adjacency matrix\n",
        "    edge_index, _ = add_self_loops(edge_index, num_nodes=num_nodes)\n",
        "    row, col = edge_index\n",
        "    deg = degree(row, num_nodes=num_nodes, dtype=torch.float)\n",
        "    deg_inv_sqrt = deg.pow(-0.5)\n",
        "    deg_inv_sqrt[deg_inv_sqrt == float('inf')] = 0\n",
        "    normalized_adj = deg_inv_sqrt[row] * deg_inv_sqrt[col]\n",
        "    return edge_index, normalized_adj\n",
        "\n",
        "# Apply normalization\n",
        "edge_index, normalized_adj = normalize_adj(data.edge_index, data.num_nodes)\n",
        "\n",
        "# Accuracy function\n",
        "def accuracy(y_pred, y_true):\n",
        "    \"\"\"Calculate accuracy.\"\"\"\n",
        "    return torch.sum(y_pred == y_true) / len(y_true)\n",
        "\n",
        "# Define Sparse Layer with normalization\n",
        "class SparseLayer(torch.nn.Module):\n",
        "    def __init__(self, dim_in, dim_out):\n",
        "        super().__init__()\n",
        "        self.linear = Linear(dim_in, dim_out, bias=False)\n",
        "\n",
        "    def forward(self, x, edge_index, edge_weight):\n",
        "        x = self.linear(x)\n",
        "        return torch.sparse.mm(torch.sparse_coo_tensor(edge_index, edge_weight, (x.size(0), x.size(0))), x)\n",
        "\n",
        "# Define GNN model with 3 layers\n",
        "class GNN(torch.nn.Module):\n",
        "    def __init__(self, dim_in, dim_h, dim_h2, dim_out, dropout=0.5):\n",
        "        super().__init__()\n",
        "        self.gnn1 = SparseLayer(dim_in, dim_h)\n",
        "        self.gnn2 = SparseLayer(dim_h, dim_h2)\n",
        "        self.gnn3 = SparseLayer(dim_h2, dim_out)\n",
        "        self.dropout = dropout\n",
        "\n",
        "    def forward(self, x, edge_index, edge_weight):\n",
        "        h = self.gnn1(x, edge_index, edge_weight)\n",
        "        h = torch.relu(h)\n",
        "        h = F.dropout(h, p=self.dropout, training=self.training)\n",
        "\n",
        "        h = self.gnn2(h, edge_index, edge_weight)\n",
        "        h = torch.relu(h)\n",
        "        h = F.dropout(h, p=self.dropout, training=self.training)\n",
        "\n",
        "        h = self.gnn3(h, edge_index, edge_weight)\n",
        "        return F.log_softmax(h, dim=1)\n",
        "\n",
        "    def fit(self, data, edge_index, edge_weight, epochs=100):\n",
        "        criterion = torch.nn.CrossEntropyLoss()\n",
        "        optimizer = torch.optim.Adam(self.parameters(), lr=0.005, weight_decay=1e-3)\n",
        "\n",
        "        self.train()\n",
        "        for epoch in range(epochs + 1):\n",
        "            optimizer.zero_grad()\n",
        "            out = self(data.x, edge_index, edge_weight)\n",
        "            loss = criterion(out[data.train_mask], data.y[data.train_mask])\n",
        "            acc = accuracy(out[data.train_mask].argmax(dim=1), data.y[data.train_mask])\n",
        "            loss.backward()\n",
        "            optimizer.step()\n",
        "\n",
        "            if epoch % 20 == 0:\n",
        "                val_loss = criterion(out[data.val_mask], data.y[data.val_mask])\n",
        "                val_acc = accuracy(out[data.val_mask].argmax(dim=1), data.y[data.val_mask])\n",
        "                print(f'Epoch {epoch:>3} | Train Loss: {loss:.3f} | Train Acc:'\n",
        "                      f' {acc*100:>5.2f}% | Val Loss: {val_loss:.2f} | '\n",
        "                      f'Val Acc: {val_acc*100:.2f}%')\n",
        "\n",
        "    @torch.no_grad()\n",
        "    def test(self, data, edge_index, edge_weight):\n",
        "        self.eval()\n",
        "        out = self(data.x, edge_index, edge_weight)\n",
        "        acc = accuracy(out.argmax(dim=1)[data.test_mask], data.y[data.test_mask])\n",
        "        return acc\n",
        "\n",
        "# Create the GNN model with 3 layers\n",
        "gnn = GNN(dataset.num_features, dim_h=64, dim_h2=32, dim_out=dataset.num_classes, dropout=0.4)\n",
        "print(gnn)\n",
        "\n",
        "# Train the model\n",
        "gnn.fit(data, edge_index, normalized_adj, epochs=100)\n",
        "\n",
        "# Test the model\n",
        "acc = gnn.test(data, edge_index, normalized_adj)\n",
        "print(f'\\nGNN test accuracy: {acc * 100:.2f}%')\n"
      ],
      "metadata": {
        "colab": {
          "base_uri": "https://localhost:8080/"
        },
        "id": "8g9iJrUjDsk0",
        "outputId": "5deb86ed-68d6-440d-9f92-5e1638a5f37a"
      },
      "execution_count": 6,
      "outputs": [
        {
          "output_type": "stream",
          "name": "stderr",
          "text": [
            "Downloading https://github.com/shchur/gnn-benchmark/raw/master/data/npz/amazon_electronics_computers.npz\n",
            "Processing...\n",
            "Done!\n"
          ]
        },
        {
          "output_type": "stream",
          "name": "stdout",
          "text": [
            "GNN(\n",
            "  (gnn1): SparseLayer(\n",
            "    (linear): Linear(in_features=767, out_features=64, bias=False)\n",
            "  )\n",
            "  (gnn2): SparseLayer(\n",
            "    (linear): Linear(in_features=64, out_features=32, bias=False)\n",
            "  )\n",
            "  (gnn3): SparseLayer(\n",
            "    (linear): Linear(in_features=32, out_features=10, bias=False)\n",
            "  )\n",
            ")\n",
            "Epoch   0 | Train Loss: 2.310 | Train Acc:  4.98% | Val Loss: 2.31 | Val Acc: 5.23%\n",
            "Epoch  20 | Train Loss: 1.495 | Train Acc: 54.48% | Val Loss: 1.52 | Val Acc: 53.12%\n",
            "Epoch  40 | Train Loss: 0.899 | Train Acc: 68.55% | Val Loss: 0.90 | Val Acc: 68.82%\n",
            "Epoch  60 | Train Loss: 0.646 | Train Acc: 80.80% | Val Loss: 0.68 | Val Acc: 79.51%\n",
            "Epoch  80 | Train Loss: 0.547 | Train Acc: 84.30% | Val Loss: 0.59 | Val Acc: 83.21%\n",
            "Epoch 100 | Train Loss: 0.520 | Train Acc: 84.63% | Val Loss: 0.56 | Val Acc: 84.16%\n",
            "\n",
            "GNN test accuracy: 83.59%\n"
          ]
        }
      ]
    }
  ]
}