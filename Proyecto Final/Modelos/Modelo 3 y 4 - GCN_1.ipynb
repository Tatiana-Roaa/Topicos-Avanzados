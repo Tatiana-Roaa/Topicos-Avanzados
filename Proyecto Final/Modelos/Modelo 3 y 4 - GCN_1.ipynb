{
  "nbformat": 4,
  "nbformat_minor": 0,
  "metadata": {
    "colab": {
      "provenance": [],
      "gpuType": "T4"
    },
    "kernelspec": {
      "name": "python3",
      "display_name": "Python 3"
    },
    "language_info": {
      "name": "python"
    },
    "accelerator": "GPU"
  },
  "cells": [
    {
      "cell_type": "code",
      "source": [
        "!pip install torch torchvision\n",
        "!pip install torch-geometric"
      ],
      "metadata": {
        "id": "aB8LzSTv9hAr",
        "outputId": "2ddecce4-3498-478c-838a-7d7e3aed5f72",
        "colab": {
          "base_uri": "https://localhost:8080/"
        }
      },
      "execution_count": 1,
      "outputs": [
        {
          "output_type": "stream",
          "name": "stdout",
          "text": [
            "Requirement already satisfied: torch in /usr/local/lib/python3.10/dist-packages (2.5.0+cu121)\n",
            "Requirement already satisfied: torchvision in /usr/local/lib/python3.10/dist-packages (0.20.0+cu121)\n",
            "Requirement already satisfied: filelock in /usr/local/lib/python3.10/dist-packages (from torch) (3.16.1)\n",
            "Requirement already satisfied: typing-extensions>=4.8.0 in /usr/local/lib/python3.10/dist-packages (from torch) (4.12.2)\n",
            "Requirement already satisfied: networkx in /usr/local/lib/python3.10/dist-packages (from torch) (3.4.2)\n",
            "Requirement already satisfied: jinja2 in /usr/local/lib/python3.10/dist-packages (from torch) (3.1.4)\n",
            "Requirement already satisfied: fsspec in /usr/local/lib/python3.10/dist-packages (from torch) (2024.10.0)\n",
            "Requirement already satisfied: sympy==1.13.1 in /usr/local/lib/python3.10/dist-packages (from torch) (1.13.1)\n",
            "Requirement already satisfied: mpmath<1.4,>=1.1.0 in /usr/local/lib/python3.10/dist-packages (from sympy==1.13.1->torch) (1.3.0)\n",
            "Requirement already satisfied: numpy in /usr/local/lib/python3.10/dist-packages (from torchvision) (1.26.4)\n",
            "Requirement already satisfied: pillow!=8.3.*,>=5.3.0 in /usr/local/lib/python3.10/dist-packages (from torchvision) (10.4.0)\n",
            "Requirement already satisfied: MarkupSafe>=2.0 in /usr/local/lib/python3.10/dist-packages (from jinja2->torch) (3.0.2)\n",
            "Collecting torch-geometric\n",
            "  Downloading torch_geometric-2.6.1-py3-none-any.whl.metadata (63 kB)\n",
            "\u001b[2K     \u001b[90m━━━━━━━━━━━━━━━━━━━━━━━━━━━━━━━━━━━━━━━━\u001b[0m \u001b[32m63.1/63.1 kB\u001b[0m \u001b[31m1.9 MB/s\u001b[0m eta \u001b[36m0:00:00\u001b[0m\n",
            "\u001b[?25hRequirement already satisfied: aiohttp in /usr/local/lib/python3.10/dist-packages (from torch-geometric) (3.10.10)\n",
            "Requirement already satisfied: fsspec in /usr/local/lib/python3.10/dist-packages (from torch-geometric) (2024.10.0)\n",
            "Requirement already satisfied: jinja2 in /usr/local/lib/python3.10/dist-packages (from torch-geometric) (3.1.4)\n",
            "Requirement already satisfied: numpy in /usr/local/lib/python3.10/dist-packages (from torch-geometric) (1.26.4)\n",
            "Requirement already satisfied: psutil>=5.8.0 in /usr/local/lib/python3.10/dist-packages (from torch-geometric) (5.9.5)\n",
            "Requirement already satisfied: pyparsing in /usr/local/lib/python3.10/dist-packages (from torch-geometric) (3.2.0)\n",
            "Requirement already satisfied: requests in /usr/local/lib/python3.10/dist-packages (from torch-geometric) (2.32.3)\n",
            "Requirement already satisfied: tqdm in /usr/local/lib/python3.10/dist-packages (from torch-geometric) (4.66.6)\n",
            "Requirement already satisfied: aiohappyeyeballs>=2.3.0 in /usr/local/lib/python3.10/dist-packages (from aiohttp->torch-geometric) (2.4.3)\n",
            "Requirement already satisfied: aiosignal>=1.1.2 in /usr/local/lib/python3.10/dist-packages (from aiohttp->torch-geometric) (1.3.1)\n",
            "Requirement already satisfied: attrs>=17.3.0 in /usr/local/lib/python3.10/dist-packages (from aiohttp->torch-geometric) (24.2.0)\n",
            "Requirement already satisfied: frozenlist>=1.1.1 in /usr/local/lib/python3.10/dist-packages (from aiohttp->torch-geometric) (1.5.0)\n",
            "Requirement already satisfied: multidict<7.0,>=4.5 in /usr/local/lib/python3.10/dist-packages (from aiohttp->torch-geometric) (6.1.0)\n",
            "Requirement already satisfied: yarl<2.0,>=1.12.0 in /usr/local/lib/python3.10/dist-packages (from aiohttp->torch-geometric) (1.17.0)\n",
            "Requirement already satisfied: async-timeout<5.0,>=4.0 in /usr/local/lib/python3.10/dist-packages (from aiohttp->torch-geometric) (4.0.3)\n",
            "Requirement already satisfied: MarkupSafe>=2.0 in /usr/local/lib/python3.10/dist-packages (from jinja2->torch-geometric) (3.0.2)\n",
            "Requirement already satisfied: charset-normalizer<4,>=2 in /usr/local/lib/python3.10/dist-packages (from requests->torch-geometric) (3.4.0)\n",
            "Requirement already satisfied: idna<4,>=2.5 in /usr/local/lib/python3.10/dist-packages (from requests->torch-geometric) (3.10)\n",
            "Requirement already satisfied: urllib3<3,>=1.21.1 in /usr/local/lib/python3.10/dist-packages (from requests->torch-geometric) (2.2.3)\n",
            "Requirement already satisfied: certifi>=2017.4.17 in /usr/local/lib/python3.10/dist-packages (from requests->torch-geometric) (2024.8.30)\n",
            "Requirement already satisfied: typing-extensions>=4.1.0 in /usr/local/lib/python3.10/dist-packages (from multidict<7.0,>=4.5->aiohttp->torch-geometric) (4.12.2)\n",
            "Requirement already satisfied: propcache>=0.2.0 in /usr/local/lib/python3.10/dist-packages (from yarl<2.0,>=1.12.0->aiohttp->torch-geometric) (0.2.0)\n",
            "Downloading torch_geometric-2.6.1-py3-none-any.whl (1.1 MB)\n",
            "\u001b[2K   \u001b[90m━━━━━━━━━━━━━━━━━━━━━━━━━━━━━━━━━━━━━━━━\u001b[0m \u001b[32m1.1/1.1 MB\u001b[0m \u001b[31m14.9 MB/s\u001b[0m eta \u001b[36m0:00:00\u001b[0m\n",
            "\u001b[?25hInstalling collected packages: torch-geometric\n",
            "Successfully installed torch-geometric-2.6.1\n"
          ]
        }
      ]
    },
    {
      "cell_type": "code",
      "source": [
        "import torch\n",
        "torch.manual_seed(1)\n",
        "import torch.nn.functional as F\n",
        "from torch_geometric.nn import GCNConv\n",
        "from torch_geometric.datasets import FacebookPagePage\n",
        "from torch_geometric.utils import degree\n",
        "import matplotlib.pyplot as plt\n",
        "from collections import Counter\n",
        "from torch_geometric.datasets import Amazon"
      ],
      "metadata": {
        "id": "NKSc-FTe9oC6"
      },
      "execution_count": 5,
      "outputs": []
    },
    {
      "cell_type": "code",
      "source": [
        "torch.manual_seed(1)\n",
        "torch.cuda.manual_seed(1)\n",
        "torch.cuda.manual_seed_all(1)\n",
        "torch.backends.cudnn.deterministic = True\n",
        "torch.backends.cudnn.benchmark = False"
      ],
      "metadata": {
        "id": "eHvafgLYGh5W"
      },
      "execution_count": 6,
      "outputs": []
    },
    {
      "cell_type": "code",
      "source": [
        "def accuracy(y_pred, y_true):\n",
        "    \"\"\"Calculate accuracy.\"\"\"\n",
        "    return torch.sum(y_pred == y_true).item() / len(y_true)"
      ],
      "metadata": {
        "id": "wHvXWrem8c3q"
      },
      "execution_count": 10,
      "outputs": []
    },
    {
      "cell_type": "code",
      "source": [
        "# Import dataset from PyTorch Geometric\n",
        "dataset = Amazon(root=\".\", name=\"Computers\")\n",
        "# Access the first data instance\n",
        "data = dataset[0]"
      ],
      "metadata": {
        "id": "wP_2vKXY8EsL"
      },
      "execution_count": 11,
      "outputs": []
    },
    {
      "cell_type": "code",
      "source": [
        "# Create masks\n",
        "data.train_mask = range(11000)\n",
        "data.val_mask = range(11001, 12000)\n",
        "data.test_mask = range(12001, 13752)"
      ],
      "metadata": {
        "id": "uAWi1z908oUr"
      },
      "execution_count": 12,
      "outputs": []
    },
    {
      "cell_type": "code",
      "source": [
        "# Get list of degrees for each node\n",
        "degrees = degree(data.edge_index[0]).numpy()\n",
        "\n",
        "# Count the number of nodes for each degree\n",
        "numbers = Counter(degrees)"
      ],
      "metadata": {
        "id": "LfRAC1u78qmD"
      },
      "execution_count": 13,
      "outputs": []
    },
    {
      "cell_type": "code",
      "source": [
        "# Bar plot\n",
        "fig, ax = plt.subplots()\n",
        "ax.set_xlabel('Node degree')\n",
        "ax.set_ylabel('Number of nodes')\n",
        "plt.bar(numbers.keys(), numbers.values())\n",
        "plt.show()"
      ],
      "metadata": {
        "colab": {
          "base_uri": "https://localhost:8080/",
          "height": 449
        },
        "id": "EvG6PeK98sjr",
        "outputId": "8a690d3e-ce19-45e6-ae5d-7e39d2602e54"
      },
      "execution_count": 14,
      "outputs": [
        {
          "output_type": "display_data",
          "data": {
            "text/plain": [
              "<Figure size 640x480 with 1 Axes>"
            ],
            "image/png": "[encoded data removed]"
          },
          "metadata": {}
        }
      ]
    },
    {
      "cell_type": "code",
      "source": [
        "# Build GCN\n",
        "class GCN(torch.nn.Module):\n",
        "    def __init__(self, in_channels, hidden_channels, out_channels):\n",
        "        super(GCN, self).__init__()\n",
        "        self.conv1 = GCNConv(in_channels, hidden_channels)\n",
        "        self.conv2 = GCNConv(hidden_channels, out_channels)\n",
        "\n",
        "    def forward(self, data):\n",
        "        x, edge_index = data.x, data.edge_index\n",
        "        # First GCN layer with ReLU activation\n",
        "        x = self.conv1(x, edge_index)\n",
        "        x = F.relu(x)\n",
        "        # Second GCN layer\n",
        "        x = self.conv2(x, edge_index)\n",
        "        return F.log_softmax(x, dim=1)\n",
        "\n",
        "    def fit(self, data, epochs=100, lr=0.01):\n",
        "        optimizer = torch.optim.Adam(self.parameters(), lr=lr, weight_decay=5e-4)\n",
        "        self.train()\n",
        "        for epoch in range(epochs):\n",
        "            optimizer.zero_grad()\n",
        "            out = self.forward(data)\n",
        "            loss = F.nll_loss(out[data.train_mask], data.y[data.train_mask])\n",
        "            loss.backward()\n",
        "            optimizer.step()\n",
        "\n",
        "            # Calculate training accuracy\n",
        "            train_pred = out[data.train_mask].argmax(dim=1)\n",
        "            train_acc = accuracy(train_pred, data.y[data.train_mask])\n",
        "\n",
        "            # Calculate validation accuracy\n",
        "            val_pred = out[data.val_mask].argmax(dim=1)\n",
        "            val_acc = accuracy(val_pred, data.y[data.val_mask])\n",
        "\n",
        "            if epoch % 10 == 0:\n",
        "                print(f\"Epoch {epoch:3d} | Train Loss: {loss.item():.4f} | Train Acc: {train_acc*100:.2f}% | \"\n",
        "                      f\"Val Loss: {loss.item():.4f} | Val Acc: {val_acc*100:.2f}%\")\n",
        "\n",
        "    def test(self, data):\n",
        "        self.eval()\n",
        "        with torch.no_grad():\n",
        "            logits = self.forward(data)\n",
        "            pred = logits.argmax(dim=1)\n",
        "            # Calculate test accuracy\n",
        "            acc = accuracy(pred[data.test_mask], data.y[data.test_mask])\n",
        "            return acc\n"
      ],
      "metadata": {
        "id": "RGZzsg7d8vab"
      },
      "execution_count": 15,
      "outputs": []
    },
    {
      "cell_type": "code",
      "source": [
        "# Train GCN\n",
        "gcn = GCN(dataset.num_features, 16, dataset.num_classes)\n",
        "print(gcn)\n",
        "gcn.fit(data, epochs=100)\n",
        "acc = gcn.test(data)\n",
        "print(f'\\nGCN test accuracy: {acc*100:.2f}%\\n')"
      ],
      "metadata": {
        "colab": {
          "base_uri": "https://localhost:8080/"
        },
        "id": "HhZf_PyH8xl7",
        "outputId": "658bf795-406c-4daf-ad5e-9cd59cf7431f"
      },
      "execution_count": 16,
      "outputs": [
        {
          "output_type": "stream",
          "name": "stdout",
          "text": [
            "GCN(\n",
            "  (conv1): GCNConv(767, 16)\n",
            "  (conv2): GCNConv(16, 10)\n",
            ")\n",
            "Epoch   0 | Train Loss: 2.6668 | Train Acc: 5.91% | Val Loss: 2.6668 | Val Acc: 6.51%\n",
            "Epoch  10 | Train Loss: 1.7494 | Train Acc: 50.65% | Val Loss: 1.7494 | Val Acc: 50.45%\n",
            "Epoch  20 | Train Loss: 1.5082 | Train Acc: 51.46% | Val Loss: 1.5082 | Val Acc: 49.15%\n",
            "Epoch  30 | Train Loss: 1.3056 | Train Acc: 58.71% | Val Loss: 1.3056 | Val Acc: 58.46%\n",
            "Epoch  40 | Train Loss: 1.1566 | Train Acc: 66.80% | Val Loss: 1.1566 | Val Acc: 66.27%\n",
            "Epoch  50 | Train Loss: 1.0101 | Train Acc: 71.95% | Val Loss: 1.0101 | Val Acc: 69.87%\n",
            "Epoch  60 | Train Loss: 0.8752 | Train Acc: 73.92% | Val Loss: 0.8752 | Val Acc: 71.87%\n",
            "Epoch  70 | Train Loss: 0.7643 | Train Acc: 80.54% | Val Loss: 0.7643 | Val Acc: 79.88%\n",
            "Epoch  80 | Train Loss: 0.6362 | Train Acc: 81.99% | Val Loss: 0.6362 | Val Acc: 81.68%\n",
            "Epoch  90 | Train Loss: 0.5533 | Train Acc: 84.51% | Val Loss: 0.5533 | Val Acc: 84.78%\n",
            "\n",
            "GCN test accuracy: 84.35%\n",
            "\n"
          ]
        }
      ]
    },
    {
      "cell_type": "code",
      "source": [
        "import torch.nn as nn\n",
        "\n",
        "class GCN(torch.nn.Module):\n",
        "    def __init__(self, in_channels, hidden_channels, out_channels):\n",
        "        super(GCN, self).__init__()\n",
        "        self.conv1 = GCNConv(in_channels, hidden_channels)\n",
        "        self.conv2 = GCNConv(hidden_channels, hidden_channels)\n",
        "        self.conv3 = GCNConv(hidden_channels, out_channels)\n",
        "        self.dropout = nn.Dropout(p=0.5)  # Añadir dropout\n",
        "\n",
        "    def forward(self, data):\n",
        "        x, edge_index = data.x, data.edge_index\n",
        "        x = self.conv1(x, edge_index)\n",
        "        x = F.relu(x)\n",
        "        x = self.dropout(x)\n",
        "        x = self.conv2(x, edge_index)\n",
        "        x = F.relu(x)\n",
        "        x = self.dropout(x)\n",
        "        x = self.conv3(x, edge_index)\n",
        "        return F.log_softmax(x, dim=1)\n",
        "\n",
        "    def fit(self, data, epochs=200, lr=0.005, patience=10):\n",
        "        optimizer = torch.optim.AdamW(self.parameters(), lr=lr, weight_decay=5e-4)\n",
        "        best_val_acc = 0\n",
        "        epochs_without_improvement = 0\n",
        "        best_model_state = None\n",
        "\n",
        "        self.train()\n",
        "        for epoch in range(epochs):\n",
        "            optimizer.zero_grad()\n",
        "            out = self.forward(data)\n",
        "            loss = F.nll_loss(out[data.train_mask], data.y[data.train_mask])\n",
        "            loss.backward()\n",
        "            optimizer.step()\n",
        "\n",
        "            # Calcular accuracy en entrenamiento\n",
        "            train_pred = out[data.train_mask].argmax(dim=1)\n",
        "            train_acc = accuracy(train_pred, data.y[data.train_mask])\n",
        "\n",
        "            # Calcular accuracy en validación\n",
        "            val_pred = out[data.val_mask].argmax(dim=1)\n",
        "            val_acc = accuracy(val_pred, data.y[data.val_mask])\n",
        "\n",
        "            if val_acc > best_val_acc:\n",
        "                best_val_acc = val_acc\n",
        "                epochs_without_improvement = 0\n",
        "                best_model_state = self.state_dict()  # Guardar mejor estado del modelo\n",
        "            else:\n",
        "                epochs_without_improvement += 1\n",
        "\n",
        "            if epochs_without_improvement == patience:\n",
        "                print(f\"Early stopping at epoch {epoch} with best validation accuracy: {best_val_acc*100:.2f}%\")\n",
        "                break\n",
        "\n",
        "            if epoch % 10 == 0:\n",
        "                print(f\"Epoch {epoch:3d} | Train Loss: {loss.item():.4f} | Train Acc: {train_acc*100:.2f}% | \"\n",
        "                      f\"Val Loss: {loss.item():.4f} | Val Acc: {val_acc*100:.2f}%\")\n",
        "\n",
        "        # Cargar el mejor estado del modelo\n",
        "        if best_model_state is not None:\n",
        "            self.load_state_dict(best_model_state)\n",
        "\n",
        "    def test(self, data):\n",
        "        self.eval()\n",
        "        with torch.no_grad():\n",
        "            logits = self.forward(data)\n",
        "            pred = logits.argmax(dim=1)\n",
        "            acc = accuracy(pred[data.test_mask], data.y[data.test_mask])\n",
        "            return acc"
      ],
      "metadata": {
        "id": "oH9K6bKaBVhf"
      },
      "execution_count": 17,
      "outputs": []
    },
    {
      "cell_type": "code",
      "source": [
        "# Inicializar y entrenar el modelo\n",
        "gcn = GCN(dataset.num_features, 32, dataset.num_classes)\n",
        "print(gcn)\n",
        "gcn.fit(data, epochs=200, lr=0.005, patience=10)\n",
        "acc = gcn.test(data)\n",
        "print(f'\\nGCN test accuracy: {acc*100:.2f}%\\n')"
      ],
      "metadata": {
        "id": "CIowoq9WBXz6",
        "outputId": "ef02a3d7-3fd8-4195-a6c7-3870237e39d5",
        "colab": {
          "base_uri": "https://localhost:8080/"
        }
      },
      "execution_count": 18,
      "outputs": [
        {
          "output_type": "stream",
          "name": "stdout",
          "text": [
            "GCN(\n",
            "  (conv1): GCNConv(767, 32)\n",
            "  (conv2): GCNConv(32, 32)\n",
            "  (conv3): GCNConv(32, 10)\n",
            "  (dropout): Dropout(p=0.5, inplace=False)\n",
            ")\n",
            "Epoch   0 | Train Loss: 2.4444 | Train Acc: 3.61% | Val Loss: 2.4444 | Val Acc: 3.40%\n",
            "Epoch  10 | Train Loss: 1.8566 | Train Acc: 41.11% | Val Loss: 1.8566 | Val Acc: 40.04%\n",
            "Epoch  20 | Train Loss: 1.4919 | Train Acc: 61.51% | Val Loss: 1.4919 | Val Acc: 59.46%\n",
            "Epoch  30 | Train Loss: 1.2054 | Train Acc: 65.32% | Val Loss: 1.2054 | Val Acc: 64.56%\n",
            "Epoch  40 | Train Loss: 0.9799 | Train Acc: 70.94% | Val Loss: 0.9799 | Val Acc: 70.07%\n",
            "Epoch  50 | Train Loss: 0.8165 | Train Acc: 75.62% | Val Loss: 0.8165 | Val Acc: 75.68%\n",
            "Epoch  60 | Train Loss: 0.7069 | Train Acc: 78.45% | Val Loss: 0.7069 | Val Acc: 77.28%\n",
            "Epoch  70 | Train Loss: 0.6364 | Train Acc: 80.57% | Val Loss: 0.6364 | Val Acc: 78.78%\n",
            "Epoch  80 | Train Loss: 0.6111 | Train Acc: 81.94% | Val Loss: 0.6111 | Val Acc: 82.08%\n",
            "Epoch  90 | Train Loss: 0.5665 | Train Acc: 83.27% | Val Loss: 0.5665 | Val Acc: 81.88%\n",
            "Epoch 100 | Train Loss: 0.5338 | Train Acc: 84.53% | Val Loss: 0.5338 | Val Acc: 84.38%\n",
            "Early stopping at epoch 106 with best validation accuracy: 84.58%\n",
            "\n",
            "GCN test accuracy: 85.84%\n",
            "\n"
          ]
        }
      ]
    }
  ]
}