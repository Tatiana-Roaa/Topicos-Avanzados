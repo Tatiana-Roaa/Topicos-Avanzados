https://github.com/Tatiana-Roaa/Topicos-Avanzados/blob/main/Proyecto%201%20-%20Frailejon%20Detection/P0_BigMonksDetection%20(VF)%20(1).ipynb
