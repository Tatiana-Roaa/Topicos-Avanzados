{
  "nbformat": 4,
  "nbformat_minor": 0,
  "metadata": {
    "colab": {
      "provenance": []
    },
    "kernelspec": {
      "display_name": "Python 3",
      "language": "python",
      "name": "python3"
    },
    "language_info": {
      "codemirror_mode": {
        "name": "ipython",
        "version": 3
      },
      "file_extension": ".py",
      "mimetype": "text/x-python",
      "name": "python",
      "nbconvert_exporter": "python",
      "pygments_lexer": "ipython3",
      "version": "3.6.13"
    }
  },
  "cells": [
    {
      "cell_type": "markdown",
      "metadata": {
        "id": "8Skr49zlgwe5"
      },
      "source": [
        "# Exercise 3\n",
        "## Spam Classification\n",
        "### Context\n",
        "The SMS Spam Collection is a set of SMS tagged messages that have been collected for SMS Spam research. It contains one set of SMS messages in English of 5,574 messages, tagged acording being ham (legitimate) or spam.\n",
        "\n",
        "### Content\n",
        "The files contain one message per line. Each line is composed by two columns: v1 contains the label (ham or spam) and v2 contains the raw text.\n",
        "\n",
        "This corpus has been collected from free or free for research sources at the Internet:\n",
        "\n",
        "- A collection of 425 SMS spam messages was manually extracted from the Grumbletext Web site. This is a UK forum in which cell phone users make public claims about SMS spam messages, most of them without reporting the very spam message received. The identification of the text of spam messages in the claims is a very hard and time-consuming task, and it involved carefully scanning hundreds of web pages. The Grumbletext Web site is: [Web Link](http://www.grumbletext.co.uk/).\n",
        "- A subset of 3,375 SMS randomly chosen ham messages of the NUS SMS Corpus (NSC), which is a dataset of about 10,000 legitimate messages collected for research at the Department of Computer Science at the National University of Singapore. The messages largely originate from Singaporeans and mostly from students attending the University. These messages were collected from volunteers who were made aware that their contributions were going to be made publicly available. The NUS SMS Corpus is avalaible at: [Web Link](http://www.comp.nus.edu.sg/~rpnlpir/downloads/corpora/smsCorpus/).\n",
        "- A list of 450 SMS ham messages collected from Caroline Tag's PhD Thesis available at [Web Link](http://etheses.bham.ac.uk/253/1/Tagg09PhD.pdf).\n",
        "- Finally, we have incorporated the SMS Spam Corpus v.0.1 Big. It has 1,002 SMS ham messages and 322 spam messages and it is public available at: [Web Link](http://www.esp.uem.es/jmgomez/smsspamcorpus/). This corpus has been used in the following academic researches:\n",
        "\n",
        "Acknowledgements\n",
        "The original dataset can be found [here](https://archive.ics.uci.edu/ml/datasets/SMS+Spam+Collection). The creators would like to note that in case you find the dataset useful, please make a reference to previous paper and the web page: http://www.dt.fee.unicamp.br/~tiago/smsspamcollection/ in your papers, research, etc.\n",
        "\n",
        "We offer a comprehensive study of this corpus in the following paper. This work presents a number of statistics, studies and baseline results for several machine learning methods.\n",
        "\n",
        "Almeida, T.A., GÃ³mez Hidalgo, J.M., Yamakami, A. Contributions to the Study of SMS Spam Filtering: New Collection and Results. Proceedings of the 2011 ACM Symposium on Document Engineering (DOCENG'11), Mountain View, CA, USA, 2011."
      ]
    },
    {
      "cell_type": "code",
      "source": [
        "!pip install wget"
      ],
      "metadata": {
        "colab": {
          "base_uri": "https://localhost:8080/"
        },
        "id": "sK8H8navE5Eo",
        "outputId": "3d48f24a-f1fd-4a62-f370-6bce9ee60568"
      },
      "execution_count": 1,
      "outputs": [
        {
          "output_type": "stream",
          "name": "stdout",
          "text": [
            "Collecting wget\n",
            "  Downloading wget-3.2.zip (10 kB)\n",
            "  Preparing metadata (setup.py) ... \u001b[?25l\u001b[?25hdone\n",
            "Building wheels for collected packages: wget\n",
            "  Building wheel for wget (setup.py) ... \u001b[?25l\u001b[?25hdone\n",
            "  Created wheel for wget: filename=wget-3.2-py3-none-any.whl size=9656 sha256=b5bdb75b3efab1889ec9b00503e4ced95b50fc46956d3fc00d8fc9b93f1225d6\n",
            "  Stored in directory: /root/.cache/pip/wheels/8b/f1/7f/5c94f0a7a505ca1c81cd1d9208ae2064675d97582078e6c769\n",
            "Successfully built wget\n",
            "Installing collected packages: wget\n",
            "Successfully installed wget-3.2\n"
          ]
        }
      ]
    },
    {
      "cell_type": "code",
      "metadata": {
        "id": "vgef-TTiglKr",
        "colab": {
          "base_uri": "https://localhost:8080/"
        },
        "outputId": "11079645-08d7-4b23-b5d9-134389325745"
      },
      "source": [
        "import pandas as pd\n",
        "import numpy as np\n",
        "import wget\n",
        "import os\n",
        "from zipfile import ZipFile\n",
        "\n",
        "from nltk.corpus import stopwords\n",
        "from nltk.tokenize import word_tokenize\n",
        "import nltk\n",
        "import string\n",
        "\n",
        "from sklearn.model_selection import train_test_split\n",
        "from sklearn.linear_model import LogisticRegression\n",
        "from sklearn.ensemble import RandomForestClassifier\n",
        "from sklearn.metrics import accuracy_score, precision_score, recall_score, f1_score, auc, roc_curve\n",
        "\n",
        "import gensim\n",
        "from gensim.models import Word2Vec\n",
        "import warnings\n",
        "\n",
        "\n",
        "warnings.filterwarnings('ignore')\n",
        "nltk.download('stopwords')\n",
        "nltk.download('punkt')"
      ],
      "execution_count": 2,
      "outputs": [
        {
          "output_type": "stream",
          "name": "stderr",
          "text": [
            "[nltk_data] Downloading package stopwords to /root/nltk_data...\n",
            "[nltk_data]   Unzipping corpora/stopwords.zip.\n",
            "[nltk_data] Downloading package punkt to /root/nltk_data...\n",
            "[nltk_data]   Unzipping tokenizers/punkt.zip.\n"
          ]
        },
        {
          "output_type": "execute_result",
          "data": {
            "text/plain": [
              "True"
            ]
          },
          "metadata": {},
          "execution_count": 2
        }
      ]
    },
    {
      "cell_type": "code",
      "metadata": {
        "colab": {
          "base_uri": "https://localhost:8080/"
        },
        "id": "DmxHMGIEeNAl",
        "outputId": "bc13fbed-d565-42ff-a07b-67c0026da975"
      },
      "source": [
        "try :\n",
        "    from google.colab import files\n",
        "    !wget https://archive.ics.uci.edu/ml/machine-learning-databases/00228/smsspamcollection.zip\n",
        "    !unzip smsspamcollection.zip\n",
        "    df = pd.read_csv('SMSSpamCollection', sep='\\t',  header=None, names=['target', 'text'])\n",
        "except ModuleNotFoundError :\n",
        "    url = 'https://archive.ics.uci.edu/ml/machine-learning-databases/00228/smsspamcollection.zip'\n",
        "    path = os.getcwd()+'\\Data'\n",
        "    wget.download(url,path)\n",
        "    temp=path+'\\smsspamcollection.zip'\n",
        "    file = ZipFile(temp)\n",
        "    file.extractall(path)\n",
        "    file.close()\n",
        "    df = pd.read_csv(path + '\\SMSSpamCollection', sep='\\t',  header=None, names=['target', 'text'])"
      ],
      "execution_count": 3,
      "outputs": [
        {
          "output_type": "stream",
          "name": "stdout",
          "text": [
            "--2024-10-10 00:39:09--  https://archive.ics.uci.edu/ml/machine-learning-databases/00228/smsspamcollection.zip\n",
            "Resolving archive.ics.uci.edu (archive.ics.uci.edu)... 128.195.10.252\n",
            "Connecting to archive.ics.uci.edu (archive.ics.uci.edu)|128.195.10.252|:443... connected.\n",
            "HTTP request sent, awaiting response... 200 OK\n",
            "Length: unspecified\n",
            "Saving to: ‘smsspamcollection.zip’\n",
            "\n",
            "smsspamcollection.z     [ <=>                ] 198.65K  1.00MB/s    in 0.2s    \n",
            "\n",
            "2024-10-10 00:39:10 (1.00 MB/s) - ‘smsspamcollection.zip’ saved [203415]\n",
            "\n",
            "Archive:  smsspamcollection.zip\n",
            "  inflating: SMSSpamCollection       \n",
            "  inflating: readme                  \n"
          ]
        }
      ]
    },
    {
      "cell_type": "code",
      "metadata": {
        "colab": {
          "base_uri": "https://localhost:8080/",
          "height": 206
        },
        "id": "hPwGRB3ghm7y",
        "outputId": "572667fb-2faf-4558-d36f-d55e5a06f9c7"
      },
      "source": [
        "df.head()"
      ],
      "execution_count": 4,
      "outputs": [
        {
          "output_type": "execute_result",
          "data": {
            "text/plain": [
              "  target                                               text\n",
              "0    ham  Go until jurong point, crazy.. Available only ...\n",
              "1    ham                      Ok lar... Joking wif u oni...\n",
              "2   spam  Free entry in 2 a wkly comp to win FA Cup fina...\n",
              "3    ham  U dun say so early hor... U c already then say...\n",
              "4    ham  Nah I don't think he goes to usf, he lives aro..."
            ],
            "text/html": [
              "\n",
              "  <div id=\"df-c77f1445-8a92-4a8e-bfc4-c1403f01b2a8\" class=\"colab-df-container\">\n",
              "    <div>\n",
              "<style scoped>\n",
              "    .dataframe tbody tr th:only-of-type {\n",
              "        vertical-align: middle;\n",
              "    }\n",
              "\n",
              "    .dataframe tbody tr th {\n",
              "        vertical-align: top;\n",
              "    }\n",
              "\n",
              "    .dataframe thead th {\n",
              "        text-align: right;\n",
              "    }\n",
              "</style>\n",
              "<table border=\"1\" class=\"dataframe\">\n",
              "  <thead>\n",
              "    <tr style=\"text-align: right;\">\n",
              "      <th></th>\n",
              "      <th>target</th>\n",
              "      <th>text</th>\n",
              "    </tr>\n",
              "  </thead>\n",
              "  <tbody>\n",
              "    <tr>\n",
              "      <th>0</th>\n",
              "      <td>ham</td>\n",
              "      <td>Go until jurong point, crazy.. Available only ...</td>\n",
              "    </tr>\n",
              "    <tr>\n",
              "      <th>1</th>\n",
              "      <td>ham</td>\n",
              "      <td>Ok lar... Joking wif u oni...</td>\n",
              "    </tr>\n",
              "    <tr>\n",
              "      <th>2</th>\n",
              "      <td>spam</td>\n",
              "      <td>Free entry in 2 a wkly comp to win FA Cup fina...</td>\n",
              "    </tr>\n",
              "    <tr>\n",
              "      <th>3</th>\n",
              "      <td>ham</td>\n",
              "      <td>U dun say so early hor... U c already then say...</td>\n",
              "    </tr>\n",
              "    <tr>\n",
              "      <th>4</th>\n",
              "      <td>ham</td>\n",
              "      <td>Nah I don't think he goes to usf, he lives aro...</td>\n",
              "    </tr>\n",
              "  </tbody>\n",
              "</table>\n",
              "</div>\n",
              "    <div class=\"colab-df-buttons\">\n",
              "\n",
              "  <div class=\"colab-df-container\">\n",
              "    <button class=\"colab-df-convert\" onclick=\"convertToInteractive('df-c77f1445-8a92-4a8e-bfc4-c1403f01b2a8')\"\n",
              "            title=\"Convert this dataframe to an interactive table.\"\n",
              "            style=\"display:none;\">\n",
              "\n",
              "  <svg xmlns=\"http://www.w3.org/2000/svg\" height=\"24px\" viewBox=\"0 -960 960 960\">\n",
              "    <path d=\"M120-120v-720h720v720H120Zm60-500h600v-160H180v160Zm220 220h160v-160H400v160Zm0 220h160v-160H400v160ZM180-400h160v-160H180v160Zm440 0h160v-160H620v160ZM180-180h160v-160H180v160Zm440 0h160v-160H620v160Z\"/>\n",
              "  </svg>\n",
              "    </button>\n",
              "\n",
              "  <style>\n",
              "    .colab-df-container {\n",
              "      display:flex;\n",
              "      gap: 12px;\n",
              "    }\n",
              "\n",
              "    .colab-df-convert {\n",
              "      background-color: #E8F0FE;\n",
              "      border: none;\n",
              "      border-radius: 50%;\n",
              "      cursor: pointer;\n",
              "      display: none;\n",
              "      fill: #1967D2;\n",
              "      height: 32px;\n",
              "      padding: 0 0 0 0;\n",
              "      width: 32px;\n",
              "    }\n",
              "\n",
              "    .colab-df-convert:hover {\n",
              "      background-color: #E2EBFA;\n",
              "      box-shadow: 0px 1px 2px rgba(60, 64, 67, 0.3), 0px 1px 3px 1px rgba(60, 64, 67, 0.15);\n",
              "      fill: #174EA6;\n",
              "    }\n",
              "\n",
              "    .colab-df-buttons div {\n",
              "      margin-bottom: 4px;\n",
              "    }\n",
              "\n",
              "    [theme=dark] .colab-df-convert {\n",
              "      background-color: #3B4455;\n",
              "      fill: #D2E3FC;\n",
              "    }\n",
              "\n",
              "    [theme=dark] .colab-df-convert:hover {\n",
              "      background-color: #434B5C;\n",
              "      box-shadow: 0px 1px 3px 1px rgba(0, 0, 0, 0.15);\n",
              "      filter: drop-shadow(0px 1px 2px rgba(0, 0, 0, 0.3));\n",
              "      fill: #FFFFFF;\n",
              "    }\n",
              "  </style>\n",
              "\n",
              "    <script>\n",
              "      const buttonEl =\n",
              "        document.querySelector('#df-c77f1445-8a92-4a8e-bfc4-c1403f01b2a8 button.colab-df-convert');\n",
              "      buttonEl.style.display =\n",
              "        google.colab.kernel.accessAllowed ? 'block' : 'none';\n",
              "\n",
              "      async function convertToInteractive(key) {\n",
              "        const element = document.querySelector('#df-c77f1445-8a92-4a8e-bfc4-c1403f01b2a8');\n",
              "        const dataTable =\n",
              "          await google.colab.kernel.invokeFunction('convertToInteractive',\n",
              "                                                    [key], {});\n",
              "        if (!dataTable) return;\n",
              "\n",
              "        const docLinkHtml = 'Like what you see? Visit the ' +\n",
              "          '<a target=\"_blank\" href=https://colab.research.google.com/notebooks/data_table.ipynb>data table notebook</a>'\n",
              "          + ' to learn more about interactive tables.';\n",
              "        element.innerHTML = '';\n",
              "        dataTable['output_type'] = 'display_data';\n",
              "        await google.colab.output.renderOutput(dataTable, element);\n",
              "        const docLink = document.createElement('div');\n",
              "        docLink.innerHTML = docLinkHtml;\n",
              "        element.appendChild(docLink);\n",
              "      }\n",
              "    </script>\n",
              "  </div>\n",
              "\n",
              "\n",
              "<div id=\"df-09a27a9a-76a3-4961-ab71-be2a64b349fe\">\n",
              "  <button class=\"colab-df-quickchart\" onclick=\"quickchart('df-09a27a9a-76a3-4961-ab71-be2a64b349fe')\"\n",
              "            title=\"Suggest charts\"\n",
              "            style=\"display:none;\">\n",
              "\n",
              "<svg xmlns=\"http://www.w3.org/2000/svg\" height=\"24px\"viewBox=\"0 0 24 24\"\n",
              "     width=\"24px\">\n",
              "    <g>\n",
              "        <path d=\"M19 3H5c-1.1 0-2 .9-2 2v14c0 1.1.9 2 2 2h14c1.1 0 2-.9 2-2V5c0-1.1-.9-2-2-2zM9 17H7v-7h2v7zm4 0h-2V7h2v10zm4 0h-2v-4h2v4z\"/>\n",
              "    </g>\n",
              "</svg>\n",
              "  </button>\n",
              "\n",
              "<style>\n",
              "  .colab-df-quickchart {\n",
              "      --bg-color: #E8F0FE;\n",
              "      --fill-color: #1967D2;\n",
              "      --hover-bg-color: #E2EBFA;\n",
              "      --hover-fill-color: #174EA6;\n",
              "      --disabled-fill-color: #AAA;\n",
              "      --disabled-bg-color: #DDD;\n",
              "  }\n",
              "\n",
              "  [theme=dark] .colab-df-quickchart {\n",
              "      --bg-color: #3B4455;\n",
              "      --fill-color: #D2E3FC;\n",
              "      --hover-bg-color: #434B5C;\n",
              "      --hover-fill-color: #FFFFFF;\n",
              "      --disabled-bg-color: #3B4455;\n",
              "      --disabled-fill-color: #666;\n",
              "  }\n",
              "\n",
              "  .colab-df-quickchart {\n",
              "    background-color: var(--bg-color);\n",
              "    border: none;\n",
              "    border-radius: 50%;\n",
              "    cursor: pointer;\n",
              "    display: none;\n",
              "    fill: var(--fill-color);\n",
              "    height: 32px;\n",
              "    padding: 0;\n",
              "    width: 32px;\n",
              "  }\n",
              "\n",
              "  .colab-df-quickchart:hover {\n",
              "    background-color: var(--hover-bg-color);\n",
              "    box-shadow: 0 1px 2px rgba(60, 64, 67, 0.3), 0 1px 3px 1px rgba(60, 64, 67, 0.15);\n",
              "    fill: var(--button-hover-fill-color);\n",
              "  }\n",
              "\n",
              "  .colab-df-quickchart-complete:disabled,\n",
              "  .colab-df-quickchart-complete:disabled:hover {\n",
              "    background-color: var(--disabled-bg-color);\n",
              "    fill: var(--disabled-fill-color);\n",
              "    box-shadow: none;\n",
              "  }\n",
              "\n",
              "  .colab-df-spinner {\n",
              "    border: 2px solid var(--fill-color);\n",
              "    border-color: transparent;\n",
              "    border-bottom-color: var(--fill-color);\n",
              "    animation:\n",
              "      spin 1s steps(1) infinite;\n",
              "  }\n",
              "\n",
              "  @keyframes spin {\n",
              "    0% {\n",
              "      border-color: transparent;\n",
              "      border-bottom-color: var(--fill-color);\n",
              "      border-left-color: var(--fill-color);\n",
              "    }\n",
              "    20% {\n",
              "      border-color: transparent;\n",
              "      border-left-color: var(--fill-color);\n",
              "      border-top-color: var(--fill-color);\n",
              "    }\n",
              "    30% {\n",
              "      border-color: transparent;\n",
              "      border-left-color: var(--fill-color);\n",
              "      border-top-color: var(--fill-color);\n",
              "      border-right-color: var(--fill-color);\n",
              "    }\n",
              "    40% {\n",
              "      border-color: transparent;\n",
              "      border-right-color: var(--fill-color);\n",
              "      border-top-color: var(--fill-color);\n",
              "    }\n",
              "    60% {\n",
              "      border-color: transparent;\n",
              "      border-right-color: var(--fill-color);\n",
              "    }\n",
              "    80% {\n",
              "      border-color: transparent;\n",
              "      border-right-color: var(--fill-color);\n",
              "      border-bottom-color: var(--fill-color);\n",
              "    }\n",
              "    90% {\n",
              "      border-color: transparent;\n",
              "      border-bottom-color: var(--fill-color);\n",
              "    }\n",
              "  }\n",
              "</style>\n",
              "\n",
              "  <script>\n",
              "    async function quickchart(key) {\n",
              "      const quickchartButtonEl =\n",
              "        document.querySelector('#' + key + ' button');\n",
              "      quickchartButtonEl.disabled = true;  // To prevent multiple clicks.\n",
              "      quickchartButtonEl.classList.add('colab-df-spinner');\n",
              "      try {\n",
              "        const charts = await google.colab.kernel.invokeFunction(\n",
              "            'suggestCharts', [key], {});\n",
              "      } catch (error) {\n",
              "        console.error('Error during call to suggestCharts:', error);\n",
              "      }\n",
              "      quickchartButtonEl.classList.remove('colab-df-spinner');\n",
              "      quickchartButtonEl.classList.add('colab-df-quickchart-complete');\n",
              "    }\n",
              "    (() => {\n",
              "      let quickchartButtonEl =\n",
              "        document.querySelector('#df-09a27a9a-76a3-4961-ab71-be2a64b349fe button');\n",
              "      quickchartButtonEl.style.display =\n",
              "        google.colab.kernel.accessAllowed ? 'block' : 'none';\n",
              "    })();\n",
              "  </script>\n",
              "</div>\n",
              "\n",
              "    </div>\n",
              "  </div>\n"
            ],
            "application/vnd.google.colaboratory.intrinsic+json": {
              "type": "dataframe",
              "variable_name": "df",
              "summary": "{\n  \"name\": \"df\",\n  \"rows\": 5572,\n  \"fields\": [\n    {\n      \"column\": \"target\",\n      \"properties\": {\n        \"dtype\": \"category\",\n        \"num_unique_values\": 2,\n        \"samples\": [\n          \"spam\",\n          \"ham\"\n        ],\n        \"semantic_type\": \"\",\n        \"description\": \"\"\n      }\n    },\n    {\n      \"column\": \"text\",\n      \"properties\": {\n        \"dtype\": \"string\",\n        \"num_unique_values\": 5169,\n        \"samples\": [\n          \"K, makes sense, btw carlos is being difficult so you guys are gonna smoke while I go pick up the second batch and get gas\",\n          \"URGENT! Your mobile No *********** WON a \\u00a32,000 Bonus Caller Prize on 02/06/03! This is the 2nd attempt to reach YOU! Call 09066362220 ASAP! BOX97N7QP, 150ppm\"\n        ],\n        \"semantic_type\": \"\",\n        \"description\": \"\"\n      }\n    }\n  ]\n}"
            }
          },
          "metadata": {},
          "execution_count": 4
        }
      ]
    },
    {
      "cell_type": "code",
      "metadata": {
        "colab": {
          "base_uri": "https://localhost:8080/",
          "height": 196
        },
        "id": "rKpOnNz9hq-x",
        "outputId": "945262e3-4751-4027-f2ca-11e2531cec0a"
      },
      "source": [
        "display(df.shape) #Number of rows (instances) and columns in the dataset\n",
        "df[\"target\"].value_counts()/df.shape[0] #Class distribution in the dataset"
      ],
      "execution_count": 5,
      "outputs": [
        {
          "output_type": "display_data",
          "data": {
            "text/plain": [
              "(5572, 2)"
            ]
          },
          "metadata": {}
        },
        {
          "output_type": "execute_result",
          "data": {
            "text/plain": [
              "target\n",
              "ham     0.865937\n",
              "spam    0.134063\n",
              "Name: count, dtype: float64"
            ],
            "text/html": [
              "<div>\n",
              "<style scoped>\n",
              "    .dataframe tbody tr th:only-of-type {\n",
              "        vertical-align: middle;\n",
              "    }\n",
              "\n",
              "    .dataframe tbody tr th {\n",
              "        vertical-align: top;\n",
              "    }\n",
              "\n",
              "    .dataframe thead th {\n",
              "        text-align: right;\n",
              "    }\n",
              "</style>\n",
              "<table border=\"1\" class=\"dataframe\">\n",
              "  <thead>\n",
              "    <tr style=\"text-align: right;\">\n",
              "      <th></th>\n",
              "      <th>count</th>\n",
              "    </tr>\n",
              "    <tr>\n",
              "      <th>target</th>\n",
              "      <th></th>\n",
              "    </tr>\n",
              "  </thead>\n",
              "  <tbody>\n",
              "    <tr>\n",
              "      <th>ham</th>\n",
              "      <td>0.865937</td>\n",
              "    </tr>\n",
              "    <tr>\n",
              "      <th>spam</th>\n",
              "      <td>0.134063</td>\n",
              "    </tr>\n",
              "  </tbody>\n",
              "</table>\n",
              "</div><br><label><b>dtype:</b> float64</label>"
            ]
          },
          "metadata": {},
          "execution_count": 5
        }
      ]
    },
    {
      "cell_type": "code",
      "source": [
        "X = df['text']\n",
        "y = df['target'].map({'ham':0, 'spam':1})"
      ],
      "metadata": {
        "id": "2u_qu5GzGs7v"
      },
      "execution_count": 6,
      "outputs": []
    },
    {
      "cell_type": "code",
      "source": [
        "# split data into training and validation set\n",
        "X_train, X_test, y_train, y_test = train_test_split(X, y, stratify = df['target'], test_size = 0.3, random_state = 18)"
      ],
      "metadata": {
        "id": "y6W-OsRvNJK8"
      },
      "execution_count": 7,
      "outputs": []
    },
    {
      "cell_type": "markdown",
      "source": [
        "Preprocess the text data by removing stop words, converting all text to lowercase, and removing punctuation using NLTK package.\n"
      ],
      "metadata": {
        "id": "hUJxVPloNs8o"
      }
    },
    {
      "cell_type": "code",
      "source": [
        "stop_words = set(stopwords.words('english'))\n",
        "def preprocess(text):\n",
        "    text = text.lower()\n",
        "    text = ''.join([word for word in text if word not in string.punctuation])\n",
        "    tokens = word_tokenize(text)\n",
        "    tokens = [word for word in tokens if word not in stop_words]\n",
        "    return ' '.join(tokens)\n",
        "\n",
        "X_train = X_train.apply(preprocess)\n",
        "X_test = X_test.apply(preprocess)"
      ],
      "metadata": {
        "id": "8D2zWvpcNv-z"
      },
      "execution_count": 8,
      "outputs": []
    },
    {
      "cell_type": "markdown",
      "source": [
        "Train a Word2Vec model on the preprocessed training data using Gensim package."
      ],
      "metadata": {
        "id": "hT3AWK7pOX5y"
      }
    },
    {
      "cell_type": "code",
      "source": [
        "sentences = [sentence.split() for sentence in X_train]\n",
        "model = Word2Vec(sentences, vector_size=100, window=5, negative=20, min_count=1, workers=4)"
      ],
      "metadata": {
        "id": "Gg_4OYMeObaV"
      },
      "execution_count": 9,
      "outputs": []
    },
    {
      "cell_type": "markdown",
      "source": [
        "Convert the preprocessed text data to a vector representation using the Word2Vec model."
      ],
      "metadata": {
        "id": "ZJJPREbbOyon"
      }
    },
    {
      "cell_type": "code",
      "source": [
        "def vectorize(sentence):\n",
        "    words = sentence.split()\n",
        "    words_vecs = [model.wv[word] for word in words if word in model.wv]\n",
        "    if len(words_vecs) == 0:\n",
        "        return np.zeros(100)\n",
        "    words_vecs = np.array(words_vecs)\n",
        "    return words_vecs.mean(axis=0)\n",
        "\n",
        "X_train = np.array([vectorize(sentence) for sentence in X_train])\n",
        "X_test = np.array([vectorize(sentence) for sentence in X_test])"
      ],
      "metadata": {
        "id": "Qsg3iEZ0Ox8R"
      },
      "execution_count": 10,
      "outputs": []
    },
    {
      "cell_type": "markdown",
      "source": [
        "Train a classification model such as logistic regression, random forests, or support vector machines using the vectorised training data and the sentiment labels."
      ],
      "metadata": {
        "id": "w8wdim2yPY8_"
      }
    },
    {
      "cell_type": "code",
      "source": [
        "clf = LogisticRegression()\n",
        "clf.fit(X_train, y_train)"
      ],
      "metadata": {
        "colab": {
          "base_uri": "https://localhost:8080/",
          "height": 81
        },
        "id": "Vxh6o9jgPOti",
        "outputId": "48360d0e-fbd6-4d73-868a-767f31c7440d"
      },
      "execution_count": 11,
      "outputs": [
        {
          "output_type": "execute_result",
          "data": {
            "text/plain": [
              "LogisticRegression()"
            ],
            "text/html": [
              "<style>#sk-container-id-1 {\n",
              "  /* Definition of color scheme common for light and dark mode */\n",
              "  --sklearn-color-text: black;\n",
              "  --sklearn-color-line: gray;\n",
              "  /* Definition of color scheme for unfitted estimators */\n",
              "  --sklearn-color-unfitted-level-0: #fff5e6;\n",
              "  --sklearn-color-unfitted-level-1: #f6e4d2;\n",
              "  --sklearn-color-unfitted-level-2: #ffe0b3;\n",
              "  --sklearn-color-unfitted-level-3: chocolate;\n",
              "  /* Definition of color scheme for fitted estimators */\n",
              "  --sklearn-color-fitted-level-0: #f0f8ff;\n",
              "  --sklearn-color-fitted-level-1: #d4ebff;\n",
              "  --sklearn-color-fitted-level-2: #b3dbfd;\n",
              "  --sklearn-color-fitted-level-3: cornflowerblue;\n",
              "\n",
              "  /* Specific color for light theme */\n",
              "  --sklearn-color-text-on-default-background: var(--sg-text-color, var(--theme-code-foreground, var(--jp-content-font-color1, black)));\n",
              "  --sklearn-color-background: var(--sg-background-color, var(--theme-background, var(--jp-layout-color0, white)));\n",
              "  --sklearn-color-border-box: var(--sg-text-color, var(--theme-code-foreground, var(--jp-content-font-color1, black)));\n",
              "  --sklearn-color-icon: #696969;\n",
              "\n",
              "  @media (prefers-color-scheme: dark) {\n",
              "    /* Redefinition of color scheme for dark theme */\n",
              "    --sklearn-color-text-on-default-background: var(--sg-text-color, var(--theme-code-foreground, var(--jp-content-font-color1, white)));\n",
              "    --sklearn-color-background: var(--sg-background-color, var(--theme-background, var(--jp-layout-color0, #111)));\n",
              "    --sklearn-color-border-box: var(--sg-text-color, var(--theme-code-foreground, var(--jp-content-font-color1, white)));\n",
              "    --sklearn-color-icon: #878787;\n",
              "  }\n",
              "}\n",
              "\n",
              "#sk-container-id-1 {\n",
              "  color: var(--sklearn-color-text);\n",
              "}\n",
              "\n",
              "#sk-container-id-1 pre {\n",
              "  padding: 0;\n",
              "}\n",
              "\n",
              "#sk-container-id-1 input.sk-hidden--visually {\n",
              "  border: 0;\n",
              "  clip: rect(1px 1px 1px 1px);\n",
              "  clip: rect(1px, 1px, 1px, 1px);\n",
              "  height: 1px;\n",
              "  margin: -1px;\n",
              "  overflow: hidden;\n",
              "  padding: 0;\n",
              "  position: absolute;\n",
              "  width: 1px;\n",
              "}\n",
              "\n",
              "#sk-container-id-1 div.sk-dashed-wrapped {\n",
              "  border: 1px dashed var(--sklearn-color-line);\n",
              "  margin: 0 0.4em 0.5em 0.4em;\n",
              "  box-sizing: border-box;\n",
              "  padding-bottom: 0.4em;\n",
              "  background-color: var(--sklearn-color-background);\n",
              "}\n",
              "\n",
              "#sk-container-id-1 div.sk-container {\n",
              "  /* jupyter's `normalize.less` sets `[hidden] { display: none; }`\n",
              "     but bootstrap.min.css set `[hidden] { display: none !important; }`\n",
              "     so we also need the `!important` here to be able to override the\n",
              "     default hidden behavior on the sphinx rendered scikit-learn.org.\n",
              "     See: https://github.com/scikit-learn/scikit-learn/issues/21755 */\n",
              "  display: inline-block !important;\n",
              "  position: relative;\n",
              "}\n",
              "\n",
              "#sk-container-id-1 div.sk-text-repr-fallback {\n",
              "  display: none;\n",
              "}\n",
              "\n",
              "div.sk-parallel-item,\n",
              "div.sk-serial,\n",
              "div.sk-item {\n",
              "  /* draw centered vertical line to link estimators */\n",
              "  background-image: linear-gradient(var(--sklearn-color-text-on-default-background), var(--sklearn-color-text-on-default-background));\n",
              "  background-size: 2px 100%;\n",
              "  background-repeat: no-repeat;\n",
              "  background-position: center center;\n",
              "}\n",
              "\n",
              "/* Parallel-specific style estimator block */\n",
              "\n",
              "#sk-container-id-1 div.sk-parallel-item::after {\n",
              "  content: \"\";\n",
              "  width: 100%;\n",
              "  border-bottom: 2px solid var(--sklearn-color-text-on-default-background);\n",
              "  flex-grow: 1;\n",
              "}\n",
              "\n",
              "#sk-container-id-1 div.sk-parallel {\n",
              "  display: flex;\n",
              "  align-items: stretch;\n",
              "  justify-content: center;\n",
              "  background-color: var(--sklearn-color-background);\n",
              "  position: relative;\n",
              "}\n",
              "\n",
              "#sk-container-id-1 div.sk-parallel-item {\n",
              "  display: flex;\n",
              "  flex-direction: column;\n",
              "}\n",
              "\n",
              "#sk-container-id-1 div.sk-parallel-item:first-child::after {\n",
              "  align-self: flex-end;\n",
              "  width: 50%;\n",
              "}\n",
              "\n",
              "#sk-container-id-1 div.sk-parallel-item:last-child::after {\n",
              "  align-self: flex-start;\n",
              "  width: 50%;\n",
              "}\n",
              "\n",
              "#sk-container-id-1 div.sk-parallel-item:only-child::after {\n",
              "  width: 0;\n",
              "}\n",
              "\n",
              "/* Serial-specific style estimator block */\n",
              "\n",
              "#sk-container-id-1 div.sk-serial {\n",
              "  display: flex;\n",
              "  flex-direction: column;\n",
              "  align-items: center;\n",
              "  background-color: var(--sklearn-color-background);\n",
              "  padding-right: 1em;\n",
              "  padding-left: 1em;\n",
              "}\n",
              "\n",
              "\n",
              "/* Toggleable style: style used for estimator/Pipeline/ColumnTransformer box that is\n",
              "clickable and can be expanded/collapsed.\n",
              "- Pipeline and ColumnTransformer use this feature and define the default style\n",
              "- Estimators will overwrite some part of the style using the `sk-estimator` class\n",
              "*/\n",
              "\n",
              "/* Pipeline and ColumnTransformer style (default) */\n",
              "\n",
              "#sk-container-id-1 div.sk-toggleable {\n",
              "  /* Default theme specific background. It is overwritten whether we have a\n",
              "  specific estimator or a Pipeline/ColumnTransformer */\n",
              "  background-color: var(--sklearn-color-background);\n",
              "}\n",
              "\n",
              "/* Toggleable label */\n",
              "#sk-container-id-1 label.sk-toggleable__label {\n",
              "  cursor: pointer;\n",
              "  display: block;\n",
              "  width: 100%;\n",
              "  margin-bottom: 0;\n",
              "  padding: 0.5em;\n",
              "  box-sizing: border-box;\n",
              "  text-align: center;\n",
              "}\n",
              "\n",
              "#sk-container-id-1 label.sk-toggleable__label-arrow:before {\n",
              "  /* Arrow on the left of the label */\n",
              "  content: \"▸\";\n",
              "  float: left;\n",
              "  margin-right: 0.25em;\n",
              "  color: var(--sklearn-color-icon);\n",
              "}\n",
              "\n",
              "#sk-container-id-1 label.sk-toggleable__label-arrow:hover:before {\n",
              "  color: var(--sklearn-color-text);\n",
              "}\n",
              "\n",
              "/* Toggleable content - dropdown */\n",
              "\n",
              "#sk-container-id-1 div.sk-toggleable__content {\n",
              "  max-height: 0;\n",
              "  max-width: 0;\n",
              "  overflow: hidden;\n",
              "  text-align: left;\n",
              "  /* unfitted */\n",
              "  background-color: var(--sklearn-color-unfitted-level-0);\n",
              "}\n",
              "\n",
              "#sk-container-id-1 div.sk-toggleable__content.fitted {\n",
              "  /* fitted */\n",
              "  background-color: var(--sklearn-color-fitted-level-0);\n",
              "}\n",
              "\n",
              "#sk-container-id-1 div.sk-toggleable__content pre {\n",
              "  margin: 0.2em;\n",
              "  border-radius: 0.25em;\n",
              "  color: var(--sklearn-color-text);\n",
              "  /* unfitted */\n",
              "  background-color: var(--sklearn-color-unfitted-level-0);\n",
              "}\n",
              "\n",
              "#sk-container-id-1 div.sk-toggleable__content.fitted pre {\n",
              "  /* unfitted */\n",
              "  background-color: var(--sklearn-color-fitted-level-0);\n",
              "}\n",
              "\n",
              "#sk-container-id-1 input.sk-toggleable__control:checked~div.sk-toggleable__content {\n",
              "  /* Expand drop-down */\n",
              "  max-height: 200px;\n",
              "  max-width: 100%;\n",
              "  overflow: auto;\n",
              "}\n",
              "\n",
              "#sk-container-id-1 input.sk-toggleable__control:checked~label.sk-toggleable__label-arrow:before {\n",
              "  content: \"▾\";\n",
              "}\n",
              "\n",
              "/* Pipeline/ColumnTransformer-specific style */\n",
              "\n",
              "#sk-container-id-1 div.sk-label input.sk-toggleable__control:checked~label.sk-toggleable__label {\n",
              "  color: var(--sklearn-color-text);\n",
              "  background-color: var(--sklearn-color-unfitted-level-2);\n",
              "}\n",
              "\n",
              "#sk-container-id-1 div.sk-label.fitted input.sk-toggleable__control:checked~label.sk-toggleable__label {\n",
              "  background-color: var(--sklearn-color-fitted-level-2);\n",
              "}\n",
              "\n",
              "/* Estimator-specific style */\n",
              "\n",
              "/* Colorize estimator box */\n",
              "#sk-container-id-1 div.sk-estimator input.sk-toggleable__control:checked~label.sk-toggleable__label {\n",
              "  /* unfitted */\n",
              "  background-color: var(--sklearn-color-unfitted-level-2);\n",
              "}\n",
              "\n",
              "#sk-container-id-1 div.sk-estimator.fitted input.sk-toggleable__control:checked~label.sk-toggleable__label {\n",
              "  /* fitted */\n",
              "  background-color: var(--sklearn-color-fitted-level-2);\n",
              "}\n",
              "\n",
              "#sk-container-id-1 div.sk-label label.sk-toggleable__label,\n",
              "#sk-container-id-1 div.sk-label label {\n",
              "  /* The background is the default theme color */\n",
              "  color: var(--sklearn-color-text-on-default-background);\n",
              "}\n",
              "\n",
              "/* On hover, darken the color of the background */\n",
              "#sk-container-id-1 div.sk-label:hover label.sk-toggleable__label {\n",
              "  color: var(--sklearn-color-text);\n",
              "  background-color: var(--sklearn-color-unfitted-level-2);\n",
              "}\n",
              "\n",
              "/* Label box, darken color on hover, fitted */\n",
              "#sk-container-id-1 div.sk-label.fitted:hover label.sk-toggleable__label.fitted {\n",
              "  color: var(--sklearn-color-text);\n",
              "  background-color: var(--sklearn-color-fitted-level-2);\n",
              "}\n",
              "\n",
              "/* Estimator label */\n",
              "\n",
              "#sk-container-id-1 div.sk-label label {\n",
              "  font-family: monospace;\n",
              "  font-weight: bold;\n",
              "  display: inline-block;\n",
              "  line-height: 1.2em;\n",
              "}\n",
              "\n",
              "#sk-container-id-1 div.sk-label-container {\n",
              "  text-align: center;\n",
              "}\n",
              "\n",
              "/* Estimator-specific */\n",
              "#sk-container-id-1 div.sk-estimator {\n",
              "  font-family: monospace;\n",
              "  border: 1px dotted var(--sklearn-color-border-box);\n",
              "  border-radius: 0.25em;\n",
              "  box-sizing: border-box;\n",
              "  margin-bottom: 0.5em;\n",
              "  /* unfitted */\n",
              "  background-color: var(--sklearn-color-unfitted-level-0);\n",
              "}\n",
              "\n",
              "#sk-container-id-1 div.sk-estimator.fitted {\n",
              "  /* fitted */\n",
              "  background-color: var(--sklearn-color-fitted-level-0);\n",
              "}\n",
              "\n",
              "/* on hover */\n",
              "#sk-container-id-1 div.sk-estimator:hover {\n",
              "  /* unfitted */\n",
              "  background-color: var(--sklearn-color-unfitted-level-2);\n",
              "}\n",
              "\n",
              "#sk-container-id-1 div.sk-estimator.fitted:hover {\n",
              "  /* fitted */\n",
              "  background-color: var(--sklearn-color-fitted-level-2);\n",
              "}\n",
              "\n",
              "/* Specification for estimator info (e.g. \"i\" and \"?\") */\n",
              "\n",
              "/* Common style for \"i\" and \"?\" */\n",
              "\n",
              ".sk-estimator-doc-link,\n",
              "a:link.sk-estimator-doc-link,\n",
              "a:visited.sk-estimator-doc-link {\n",
              "  float: right;\n",
              "  font-size: smaller;\n",
              "  line-height: 1em;\n",
              "  font-family: monospace;\n",
              "  background-color: var(--sklearn-color-background);\n",
              "  border-radius: 1em;\n",
              "  height: 1em;\n",
              "  width: 1em;\n",
              "  text-decoration: none !important;\n",
              "  margin-left: 1ex;\n",
              "  /* unfitted */\n",
              "  border: var(--sklearn-color-unfitted-level-1) 1pt solid;\n",
              "  color: var(--sklearn-color-unfitted-level-1);\n",
              "}\n",
              "\n",
              ".sk-estimator-doc-link.fitted,\n",
              "a:link.sk-estimator-doc-link.fitted,\n",
              "a:visited.sk-estimator-doc-link.fitted {\n",
              "  /* fitted */\n",
              "  border: var(--sklearn-color-fitted-level-1) 1pt solid;\n",
              "  color: var(--sklearn-color-fitted-level-1);\n",
              "}\n",
              "\n",
              "/* On hover */\n",
              "div.sk-estimator:hover .sk-estimator-doc-link:hover,\n",
              ".sk-estimator-doc-link:hover,\n",
              "div.sk-label-container:hover .sk-estimator-doc-link:hover,\n",
              ".sk-estimator-doc-link:hover {\n",
              "  /* unfitted */\n",
              "  background-color: var(--sklearn-color-unfitted-level-3);\n",
              "  color: var(--sklearn-color-background);\n",
              "  text-decoration: none;\n",
              "}\n",
              "\n",
              "div.sk-estimator.fitted:hover .sk-estimator-doc-link.fitted:hover,\n",
              ".sk-estimator-doc-link.fitted:hover,\n",
              "div.sk-label-container:hover .sk-estimator-doc-link.fitted:hover,\n",
              ".sk-estimator-doc-link.fitted:hover {\n",
              "  /* fitted */\n",
              "  background-color: var(--sklearn-color-fitted-level-3);\n",
              "  color: var(--sklearn-color-background);\n",
              "  text-decoration: none;\n",
              "}\n",
              "\n",
              "/* Span, style for the box shown on hovering the info icon */\n",
              ".sk-estimator-doc-link span {\n",
              "  display: none;\n",
              "  z-index: 9999;\n",
              "  position: relative;\n",
              "  font-weight: normal;\n",
              "  right: .2ex;\n",
              "  padding: .5ex;\n",
              "  margin: .5ex;\n",
              "  width: min-content;\n",
              "  min-width: 20ex;\n",
              "  max-width: 50ex;\n",
              "  color: var(--sklearn-color-text);\n",
              "  box-shadow: 2pt 2pt 4pt #999;\n",
              "  /* unfitted */\n",
              "  background: var(--sklearn-color-unfitted-level-0);\n",
              "  border: .5pt solid var(--sklearn-color-unfitted-level-3);\n",
              "}\n",
              "\n",
              ".sk-estimator-doc-link.fitted span {\n",
              "  /* fitted */\n",
              "  background: var(--sklearn-color-fitted-level-0);\n",
              "  border: var(--sklearn-color-fitted-level-3);\n",
              "}\n",
              "\n",
              ".sk-estimator-doc-link:hover span {\n",
              "  display: block;\n",
              "}\n",
              "\n",
              "/* \"?\"-specific style due to the `<a>` HTML tag */\n",
              "\n",
              "#sk-container-id-1 a.estimator_doc_link {\n",
              "  float: right;\n",
              "  font-size: 1rem;\n",
              "  line-height: 1em;\n",
              "  font-family: monospace;\n",
              "  background-color: var(--sklearn-color-background);\n",
              "  border-radius: 1rem;\n",
              "  height: 1rem;\n",
              "  width: 1rem;\n",
              "  text-decoration: none;\n",
              "  /* unfitted */\n",
              "  color: var(--sklearn-color-unfitted-level-1);\n",
              "  border: var(--sklearn-color-unfitted-level-1) 1pt solid;\n",
              "}\n",
              "\n",
              "#sk-container-id-1 a.estimator_doc_link.fitted {\n",
              "  /* fitted */\n",
              "  border: var(--sklearn-color-fitted-level-1) 1pt solid;\n",
              "  color: var(--sklearn-color-fitted-level-1);\n",
              "}\n",
              "\n",
              "/* On hover */\n",
              "#sk-container-id-1 a.estimator_doc_link:hover {\n",
              "  /* unfitted */\n",
              "  background-color: var(--sklearn-color-unfitted-level-3);\n",
              "  color: var(--sklearn-color-background);\n",
              "  text-decoration: none;\n",
              "}\n",
              "\n",
              "#sk-container-id-1 a.estimator_doc_link.fitted:hover {\n",
              "  /* fitted */\n",
              "  background-color: var(--sklearn-color-fitted-level-3);\n",
              "}\n",
              "</style><div id=\"sk-container-id-1\" class=\"sk-top-container\"><div class=\"sk-text-repr-fallback\"><pre>LogisticRegression()</pre><b>In a Jupyter environment, please rerun this cell to show the HTML representation or trust the notebook. <br />On GitHub, the HTML representation is unable to render, please try loading this page with nbviewer.org.</b></div><div class=\"sk-container\" hidden><div class=\"sk-item\"><div class=\"sk-estimator fitted sk-toggleable\"><input class=\"sk-toggleable__control sk-hidden--visually\" id=\"sk-estimator-id-1\" type=\"checkbox\" checked><label for=\"sk-estimator-id-1\" class=\"sk-toggleable__label fitted sk-toggleable__label-arrow fitted\">&nbsp;&nbsp;LogisticRegression<a class=\"sk-estimator-doc-link fitted\" rel=\"noreferrer\" target=\"_blank\" href=\"https://scikit-learn.org/1.5/modules/generated/sklearn.linear_model.LogisticRegression.html\">?<span>Documentation for LogisticRegression</span></a><span class=\"sk-estimator-doc-link fitted\">i<span>Fitted</span></span></label><div class=\"sk-toggleable__content fitted\"><pre>LogisticRegression()</pre></div> </div></div></div></div>"
            ]
          },
          "metadata": {},
          "execution_count": 11
        }
      ]
    },
    {
      "cell_type": "markdown",
      "source": [
        "Evaluate the performance of the classification model on the testing set with the accuracy, precision, recall and F1 score."
      ],
      "metadata": {
        "id": "Lpa4X7l7PdO_"
      }
    },
    {
      "cell_type": "code",
      "source": [
        "y_pred = clf.predict(X_test)\n",
        "fpr, tpr, thresholds = roc_curve(y_test, y_pred)\n",
        "\n",
        "print('Accuracy:', accuracy_score(y_test, y_pred))\n",
        "print('AUC:', auc(fpr, tpr))"
      ],
      "metadata": {
        "colab": {
          "base_uri": "https://localhost:8080/"
        },
        "id": "dK5pgzC6Pd9y",
        "outputId": "ed236882-1149-41e4-828d-a993e6949b53"
      },
      "execution_count": 12,
      "outputs": [
        {
          "output_type": "stream",
          "name": "stdout",
          "text": [
            "Accuracy: 0.8660287081339713\n",
            "AUC: 0.5\n"
          ]
        }
      ]
    },
    {
      "cell_type": "markdown",
      "source": [
        "# Excercise 3.1\n",
        "\n",
        "Remove stopwords, then predict target using CountVectorizer.\n",
        "\n",
        "use Random Forest classifier"
      ],
      "metadata": {
        "id": "bdkzBNohGAN4"
      }
    },
    {
      "cell_type": "code",
      "source": [
        "import pandas as pd\n",
        "import numpy as np\n",
        "import wget\n",
        "import os\n",
        "from zipfile import ZipFile\n",
        "from nltk.corpus import stopwords\n",
        "from nltk.tokenize import word_tokenize\n",
        "import nltk\n",
        "import string\n",
        "\n",
        "from sklearn.model_selection import train_test_split\n",
        "from sklearn.ensemble import RandomForestClassifier\n",
        "from sklearn.metrics import accuracy_score, precision_score, recall_score, f1_score\n",
        "\n",
        "warnings.filterwarnings('ignore')\n",
        "nltk.download('stopwords')\n",
        "nltk.download('punkt')\n",
        "\n",
        "# Descargar y cargar los datos\n",
        "url = 'https://archive.ics.uci.edu/ml/machine-learning-databases/00228/smsspamcollection.zip'\n",
        "wget.download(url)\n",
        "with ZipFile('smsspamcollection.zip', 'r') as zip_ref:\n",
        "    zip_ref.extractall()\n",
        "\n",
        "df = pd.read_csv('SMSSpamCollection', sep='\\t', header=None, names=['target', 'text'])\n",
        "\n",
        "# Convertir etiquetas de spam y ham a 0 y 1\n",
        "df['target'] = df['target'].map({'ham': 0, 'spam': 1})\n",
        "\n",
        "# Separar las características (X) y las etiquetas (y)\n",
        "X = df['text']\n",
        "y = df['target']\n",
        "\n",
        "# Dividir los datos en entrenamiento y prueba\n",
        "X_train, X_test, y_train, y_test = train_test_split(X, y, stratify=y, test_size=0.3, random_state=18)\n",
        "\n",
        "# Eliminar stopwords y aplicar CountVectorizer\n",
        "from sklearn.feature_extraction.text import CountVectorizer\n",
        "\n",
        "count_vectorizer = CountVectorizer(stop_words='english')\n",
        "X_train_count = count_vectorizer.fit_transform(X_train)\n",
        "X_test_count = count_vectorizer.transform(X_test)\n",
        "\n",
        "# Entrenar un Random Forest classifier\n",
        "rf_classifier = RandomForestClassifier(random_state=18)\n",
        "rf_classifier.fit(X_train_count, y_train)\n",
        "\n",
        "# Predecir en el conjunto de prueba\n",
        "y_pred_rf = rf_classifier.predict(X_test_count)\n",
        "\n",
        "# Evaluar el rendimiento\n",
        "print('Accuracy:', accuracy_score(y_test, y_pred_rf))\n",
        "print('Precision:', precision_score(y_test, y_pred_rf))\n",
        "print('Recall:', recall_score(y_test, y_pred_rf))\n",
        "print('F1 Score:', f1_score(y_test, y_pred_rf))\n"
      ],
      "metadata": {
        "colab": {
          "base_uri": "https://localhost:8080/"
        },
        "id": "3zvapZ0qFWu5",
        "outputId": "760ad4b4-ce1f-4895-ec7c-f4a7508a70ac"
      },
      "execution_count": 13,
      "outputs": [
        {
          "output_type": "stream",
          "name": "stderr",
          "text": [
            "[nltk_data] Downloading package stopwords to /root/nltk_data...\n",
            "[nltk_data]   Package stopwords is already up-to-date!\n",
            "[nltk_data] Downloading package punkt to /root/nltk_data...\n",
            "[nltk_data]   Package punkt is already up-to-date!\n"
          ]
        },
        {
          "output_type": "stream",
          "name": "stdout",
          "text": [
            "Accuracy: 0.9700956937799043\n",
            "Precision: 1.0\n",
            "Recall: 0.7767857142857143\n",
            "F1 Score: 0.8743718592964824\n"
          ]
        }
      ]
    },
    {
      "cell_type": "markdown",
      "source": [
        "# Excercise 3.2\n",
        "\n",
        "Predict target using TdidfVectorizer.\n",
        "\n",
        "use Random Forest classifier"
      ],
      "metadata": {
        "id": "pIFj3ETiIi4O"
      }
    },
    {
      "cell_type": "code",
      "source": [
        "from sklearn.feature_extraction.text import TfidfVectorizer\n",
        "from sklearn.ensemble import RandomForestClassifier\n",
        "from sklearn.metrics import accuracy_score, precision_score, recall_score, f1_score, roc_auc_score, roc_curve\n",
        "\n",
        "# Aplicar TfidfVectorizer en lugar de CountVectorizer\n",
        "tfidf_vectorizer = TfidfVectorizer(stop_words='english')\n",
        "X_train_tfidf = tfidf_vectorizer.fit_transform(X_train)\n",
        "X_test_tfidf = tfidf_vectorizer.transform(X_test)\n",
        "\n",
        "# Entrenar un Random Forest classifier\n",
        "rf_classifier = RandomForestClassifier(random_state=18)\n",
        "rf_classifier.fit(X_train_tfidf, y_train)\n",
        "\n",
        "# Predecir en el conjunto de prueba\n",
        "y_pred_rf = rf_classifier.predict(X_test_tfidf)\n",
        "\n",
        "# Obtener las probabilidades para el cálculo del AUC\n",
        "y_pred_prob_rf = rf_classifier.predict_proba(X_test_tfidf)[:, 1]\n",
        "\n",
        "# Evaluar el rendimiento\n",
        "print('Accuracy:', accuracy_score(y_test, y_pred_rf))\n",
        "print('Precision:', precision_score(y_test, y_pred_rf))\n",
        "print('Recall:', recall_score(y_test, y_pred_rf))\n",
        "print('F1 Score:', f1_score(y_test, y_pred_rf))\n",
        "\n",
        "# Calcular el AUC\n",
        "fpr, tpr, thresholds = roc_curve(y_test, y_pred_prob_rf)\n",
        "auc_rf = roc_auc_score(y_test, y_pred_prob_rf)\n",
        "print('AUC:', auc_rf)"
      ],
      "metadata": {
        "colab": {
          "base_uri": "https://localhost:8080/"
        },
        "id": "wquZ3S-4Fq4o",
        "outputId": "dc65407e-a340-4cfa-aed8-4fd625fc6531"
      },
      "execution_count": 14,
      "outputs": [
        {
          "output_type": "stream",
          "name": "stdout",
          "text": [
            "Accuracy: 0.9677033492822966\n",
            "Precision: 1.0\n",
            "Recall: 0.7589285714285714\n",
            "F1 Score: 0.8629441624365483\n",
            "AUC: 0.9860213595106552\n"
          ]
        }
      ]
    },
    {
      "cell_type": "markdown",
      "source": [
        "# Excercise 3.3\n",
        "\n",
        "Predict target using CountVectorizer or TfideVectorizer.\n",
        "\n",
        "choose any classification model and justify why"
      ],
      "metadata": {
        "id": "JIlTBKIeI_bf"
      }
    },
    {
      "cell_type": "markdown",
      "source": [
        "TfidfVectorizer se ha seleccionado porque tiende a dar más peso a las palabras menos comunes y más relevantes en el corpus, lo que es útil en la detección de spam.\n",
        "\n",
        "\n",
        "Logistic Regression ha sido elegido como el modelo de clasificación debido a su simplicidad, capacidad para manejar problemas de clasificación binaria y su salida de probabilidad útil para la interpretación."
      ],
      "metadata": {
        "id": "hBcxhAPyJbps"
      }
    },
    {
      "cell_type": "code",
      "source": [
        "from sklearn.feature_extraction.text import TfidfVectorizer\n",
        "from sklearn.linear_model import LogisticRegression\n",
        "from sklearn.metrics import accuracy_score, precision_score, recall_score, f1_score, roc_auc_score, roc_curve\n",
        "\n",
        "# Aplicar TfidfVectorizer para este ejercicio\n",
        "tfidf_vectorizer = TfidfVectorizer(stop_words='english')\n",
        "X_train_tfidf = tfidf_vectorizer.fit_transform(X_train)\n",
        "X_test_tfidf = tfidf_vectorizer.transform(X_test)\n",
        "\n",
        "# Entrenar un modelo de Logistic Regression\n",
        "logreg_classifier = LogisticRegression(random_state=18)\n",
        "logreg_classifier.fit(X_train_tfidf, y_train)\n",
        "\n",
        "# Predecir en el conjunto de prueba\n",
        "y_pred_logreg = logreg_classifier.predict(X_test_tfidf)\n",
        "\n",
        "# Obtener las probabilidades para el cálculo del AUC\n",
        "y_pred_prob_logreg = logreg_classifier.predict_proba(X_test_tfidf)[:, 1]\n",
        "\n",
        "# Evaluar el rendimiento\n",
        "print('Accuracy:', accuracy_score(y_test, y_pred_logreg))\n",
        "print('Precision:', precision_score(y_test, y_pred_logreg))\n",
        "print('Recall:', recall_score(y_test, y_pred_logreg))\n",
        "print('F1 Score:', f1_score(y_test, y_pred_logreg))\n",
        "\n",
        "# Calcular el AUC\n",
        "fpr, tpr, thresholds = roc_curve(y_test, y_pred_prob_logreg)\n",
        "auc_logreg = roc_auc_score(y_test, y_pred_prob_logreg)\n",
        "print('AUC:', auc_logreg)\n"
      ],
      "metadata": {
        "colab": {
          "base_uri": "https://localhost:8080/"
        },
        "id": "6YP-8aroFuIB",
        "outputId": "add2f6da-5eb6-4b78-d0db-89863ad1de65"
      },
      "execution_count": 15,
      "outputs": [
        {
          "output_type": "stream",
          "name": "stdout",
          "text": [
            "Accuracy: 0.9527511961722488\n",
            "Precision: 0.9738562091503268\n",
            "Recall: 0.6651785714285714\n",
            "F1 Score: 0.7904509283819628\n",
            "AUC: 0.9827486804459353\n"
          ]
        }
      ]
    },
    {
      "cell_type": "markdown",
      "source": [
        "# Excercise 3.4\n",
        "\n",
        "Increase and decrece the parameters values vector_size, window and negative then predict the target.\n",
        "\n",
        "Plot the different values of the parameters with the performance of the model.\n",
        "\n",
        "Use a Random Forest classifier and classification model of your choice and justify why."
      ],
      "metadata": {
        "id": "Nv3WOp-oKK8V"
      }
    },
    {
      "cell_type": "markdown",
      "source": [
        "Se utilizó regresión logistica porque es un modelo simple y eficiente para problemas de clasificación binaria. Aunque asume que los datos son linealmente separables, es una excelente opción en combinaciones de alto rendimiento con vectores como los generados por Word2Vec.Sin embargo, se normalizaron los datos antes de entrenar el modelo para asegurar que todas las características tuvieran una escala comparable. Esto es necesario porque Logistic Regression es sensible a la magnitud de las características, y sin normalización, las características con valores más grandes podrían dominar el modelo, lo que provoca un rendimiento deficiente. La normalización asegura que cada dimensión de los vectores tenga una media de 0 y una desviación estándar de 1, permitiendo que el modelo aprenda de manera más eficiente."
      ],
      "metadata": {
        "id": "cwz08oxoYQbg"
      }
    },
    {
      "cell_type": "markdown",
      "source": [
        "parameter variation: `vector_size`"
      ],
      "metadata": {
        "id": "qI5fsc37Tg3Y"
      }
    },
    {
      "cell_type": "code",
      "source": [
        "import numpy as np\n",
        "import random\n",
        "import matplotlib.pyplot as plt\n",
        "from gensim.models import Word2Vec\n",
        "from sklearn.ensemble import RandomForestClassifier\n",
        "from sklearn.linear_model import LogisticRegression\n",
        "from sklearn.preprocessing import StandardScaler\n",
        "from sklearn.metrics import accuracy_score\n",
        "\n",
        "# Fijar la semilla aleatoria\n",
        "seed = 18\n",
        "\n",
        "# Fijar la semilla aleatoria\n",
        "def set_seed(seed=18):\n",
        "    np.random.seed(seed)\n",
        "    random.seed(seed)\n",
        "\n",
        "# Función para vectorizar las oraciones usando el modelo de Word2Vec\n",
        "def vectorize(sentence, model, vector_size):\n",
        "    words = sentence.split()\n",
        "    words_vecs = [model.wv[word] for word in words if word in model.wv]\n",
        "    if len(words_vecs) == 0:\n",
        "        return np.zeros(vector_size)\n",
        "    return np.array(words_vecs).mean(axis=0)\n",
        "\n",
        "# Entrenar y evaluar el modelo variando el parámetro vector_size\n",
        "def evaluate_vector_size(sizes, X_train, X_test, y_train, y_test, seed=seed):\n",
        "    accuracy_rf = []\n",
        "    accuracy_lr = []\n",
        "\n",
        "    for size in sizes:\n",
        "        set_seed(seed)\n",
        "\n",
        "        # Entrenar el modelo Word2Vec con el parámetro vector_size\n",
        "        sentences = [sentence.split() for sentence in X_train]\n",
        "        model = Word2Vec(sentences, vector_size=size, window=5, negative=20, min_count=1, workers=4, seed=18)\n",
        "\n",
        "        # Convertir las oraciones en vectores\n",
        "        X_train_vect = np.array([vectorize(sentence, model, size) for sentence in X_train])\n",
        "        X_test_vect = np.array([vectorize(sentence, model, size) for sentence in X_test])\n",
        "\n",
        "        # Normalizar los vectores para Logistic Regression\n",
        "        scaler = StandardScaler()\n",
        "        X_train_vect_scaled = scaler.fit_transform(X_train_vect)\n",
        "        X_test_vect_scaled = scaler.transform(X_test_vect)\n",
        "\n",
        "        # Entrenar y evaluar Random Forest con la semilla aleatoria\n",
        "        rf_classifier = RandomForestClassifier(random_state=seed)\n",
        "        rf_classifier.fit(X_train_vect, y_train)\n",
        "        y_pred_rf = rf_classifier.predict(X_test_vect)\n",
        "        accuracy_rf.append(accuracy_score(y_test, y_pred_rf))\n",
        "\n",
        "        # Entrenar y evaluar Logistic Regression con la semilla aleatoria\n",
        "        lr_classifier = LogisticRegression(random_state=seed)\n",
        "        lr_classifier.fit(X_train_vect_scaled, y_train)\n",
        "        y_pred_lr = lr_classifier.predict(X_test_vect_scaled)\n",
        "        accuracy_lr.append(accuracy_score(y_test, y_pred_lr))\n",
        "\n",
        "    # Graficar los resultados\n",
        "    plt.figure(figsize=(10, 6))\n",
        "    plt.plot(sizes, accuracy_rf, label='Random Forest', marker='o')\n",
        "    plt.plot(sizes, accuracy_lr, label='Logistic Regression', marker='x')\n",
        "    plt.xlabel('Vector Size')\n",
        "    plt.ylabel('Accuracy')\n",
        "    plt.title('Accuracy vs Vector Size (Normalized)')\n",
        "    plt.legend()\n",
        "    plt.grid(True)\n",
        "    plt.show()\n",
        "\n",
        "# Valores del parámetro vector_size\n",
        "vector_sizes = [50, 100, 150, 200]\n",
        "evaluate_vector_size(vector_sizes, X_train, X_test, y_train, y_test)\n",
        "\n"
      ],
      "metadata": {
        "colab": {
          "base_uri": "https://localhost:8080/",
          "height": 564
        },
        "id": "SqvYt534FzVg",
        "outputId": "269721b2-ce75-4f0f-d254-aba109d93292"
      },
      "execution_count": 17,
      "outputs": [
        {
          "output_type": "display_data",
          "data": {
            "text/plain": [
              "<Figure size 1000x600 with 1 Axes>"
            ],
            "image/png": "[encoded data removed]"
          },
          "metadata": {}
        }
      ]
    },
    {
      "cell_type": "markdown",
      "source": [
        "parameter variation: `window`"
      ],
      "metadata": {
        "id": "VVsQ2rSMTynE"
      }
    },
    {
      "cell_type": "code",
      "source": [
        "# Entrenar y evaluar el modelo variando el parámetro window\n",
        "def evaluate_window(windows, X_train, X_test, y_train, y_test, seed=18):\n",
        "    accuracy_rf = []\n",
        "    accuracy_lr = []\n",
        "\n",
        "    for window in windows:\n",
        "        set_seed(seed)\n",
        "\n",
        "        # Entrenar el modelo Word2Vec con el parámetro window\n",
        "        sentences = [sentence.split() for sentence in X_train]\n",
        "        model = Word2Vec(sentences, vector_size=200, window=window, negative=20, min_count=1, workers=4, seed=seed)\n",
        "\n",
        "        # Convertir las oraciones en vectores\n",
        "        X_train_vect = np.array([vectorize(sentence, model, 200) for sentence in X_train])\n",
        "        X_test_vect = np.array([vectorize(sentence, model, 200) for sentence in X_test])\n",
        "\n",
        "        # Normalizar los vectores para Logistic Regression\n",
        "        scaler = StandardScaler()\n",
        "        X_train_vect_scaled = scaler.fit_transform(X_train_vect)\n",
        "        X_test_vect_scaled = scaler.transform(X_test_vect)\n",
        "\n",
        "        # Entrenar y evaluar Random Forest con la semilla aleatoria\n",
        "        rf_classifier = RandomForestClassifier(random_state=seed)\n",
        "        rf_classifier.fit(X_train_vect, y_train)\n",
        "        y_pred_rf = rf_classifier.predict(X_test_vect)\n",
        "        accuracy_rf.append(accuracy_score(y_test, y_pred_rf))\n",
        "\n",
        "        # Entrenar y evaluar Logistic Regression con la semilla aleatoria\n",
        "        lr_classifier = LogisticRegression(random_state=seed)\n",
        "        lr_classifier.fit(X_train_vect_scaled, y_train)\n",
        "        y_pred_lr = lr_classifier.predict(X_test_vect_scaled)\n",
        "        accuracy_lr.append(accuracy_score(y_test, y_pred_lr))\n",
        "\n",
        "    # Graficar los resultados\n",
        "    plt.figure(figsize=(10, 6))\n",
        "    plt.plot(windows, accuracy_rf, label='Random Forest', marker='o')\n",
        "    plt.plot(windows, accuracy_lr, label='Logistic Regression', marker='x')\n",
        "    plt.xlabel('Window Size')\n",
        "    plt.ylabel('Accuracy')\n",
        "    plt.title('Accuracy vs Window Size (Normalized)')\n",
        "    plt.legend()\n",
        "    plt.grid(True)\n",
        "    plt.show()\n",
        "\n",
        "# Valores del parámetro window\n",
        "window_sizes = [3, 5, 7, 10]\n",
        "evaluate_window(window_sizes, X_train, X_test, y_train, y_test)\n",
        "\n"
      ],
      "metadata": {
        "colab": {
          "base_uri": "https://localhost:8080/",
          "height": 564
        },
        "id": "friyFzLrF02d",
        "outputId": "b062ed77-e681-4211-9fd2-b5b01bd90504"
      },
      "execution_count": 18,
      "outputs": [
        {
          "output_type": "display_data",
          "data": {
            "text/plain": [
              "<Figure size 1000x600 with 1 Axes>"
            ],
            "image/png": "[encoded data removed]"
          },
          "metadata": {}
        }
      ]
    },
    {
      "cell_type": "markdown",
      "source": [
        "parameter variation: `negative`"
      ],
      "metadata": {
        "id": "HXwksOx_Tz70"
      }
    },
    {
      "cell_type": "code",
      "source": [
        "# Entrenar y evaluar el modelo variando el parámetro negative\n",
        "def evaluate_negative(negatives, X_train, X_test, y_train, y_test, seed=18):\n",
        "    accuracy_rf = []\n",
        "    accuracy_lr = []\n",
        "\n",
        "    for negative in negatives:\n",
        "        set_seed(seed)\n",
        "\n",
        "        # Entrenar el modelo Word2Vec con el parámetro negative\n",
        "        sentences = [sentence.split() for sentence in X_train]\n",
        "        model = Word2Vec(sentences, vector_size=200, window=10, negative=negative, min_count=1, workers=4, seed=seed)\n",
        "\n",
        "        # Convertir las oraciones en vectores\n",
        "        X_train_vect = np.array([vectorize(sentence, model, 200) for sentence in X_train])\n",
        "        X_test_vect = np.array([vectorize(sentence, model, 200) for sentence in X_test])\n",
        "\n",
        "        # Normalizar los vectores para Logistic Regression\n",
        "        scaler = StandardScaler()\n",
        "        X_train_vect_scaled = scaler.fit_transform(X_train_vect)\n",
        "        X_test_vect_scaled = scaler.transform(X_test_vect)\n",
        "\n",
        "        # Entrenar y evaluar Random Forest con la semilla aleatoria\n",
        "        rf_classifier = RandomForestClassifier(random_state=seed)\n",
        "        rf_classifier.fit(X_train_vect, y_train)\n",
        "        y_pred_rf = rf_classifier.predict(X_test_vect)\n",
        "        accuracy_rf.append(accuracy_score(y_test, y_pred_rf))\n",
        "\n",
        "        # Entrenar y evaluar Logistic Regression con la semilla aleatoria\n",
        "        lr_classifier = LogisticRegression(random_state=seed)\n",
        "        lr_classifier.fit(X_train_vect_scaled, y_train)\n",
        "        y_pred_lr = lr_classifier.predict(X_test_vect_scaled)\n",
        "        accuracy_lr.append(accuracy_score(y_test, y_pred_lr))\n",
        "\n",
        "    # Graficar los resultados\n",
        "    plt.figure(figsize=(10, 6))\n",
        "    plt.plot(negatives, accuracy_rf, label='Random Forest', marker='o')\n",
        "    plt.plot(negatives, accuracy_lr, label='Logistic Regression', marker='x')\n",
        "    plt.xlabel('Negative Size')\n",
        "    plt.ylabel('Accuracy')\n",
        "    plt.title('Accuracy vs Negative Size (Normalized)')\n",
        "    plt.legend()\n",
        "    plt.grid(True)\n",
        "    plt.show()\n",
        "\n",
        "# Valores del parámetro negative\n",
        "negative_sizes = [5, 10, 15, 20]\n",
        "evaluate_negative(negative_sizes, X_train, X_test, y_train, y_test)\n"
      ],
      "metadata": {
        "colab": {
          "base_uri": "https://localhost:8080/",
          "height": 564
        },
        "id": "mqk_Ag4XF2Y1",
        "outputId": "13007d86-ed43-4768-c193-67bbe525ea18"
      },
      "execution_count": 19,
      "outputs": [
        {
          "output_type": "display_data",
          "data": {
            "text/plain": [
              "<Figure size 1000x600 with 1 Axes>"
            ],
            "image/png": "[encoded data removed]"
          },
          "metadata": {}
        }
      ]
    },
    {
      "cell_type": "markdown",
      "source": [
        "Running best parameters `vector_size, window and negative` (All at the same time)"
      ],
      "metadata": {
        "id": "E278ShYhT-Vb"
      }
    },
    {
      "cell_type": "code",
      "source": [
        "# Correr el modelo con los mejores parámetros\n",
        "def run_best_params(X_train, X_test, y_train, y_test, best_vector_size, best_window, best_negative, seed=18):\n",
        "    # Fijar la semilla\n",
        "    set_seed(seed)\n",
        "\n",
        "    # Entrenar el modelo Word2Vec con los mejores parámetros\n",
        "    sentences = [sentence.split() for sentence in X_train]\n",
        "    model = Word2Vec(sentences, vector_size=best_vector_size, window=best_window, negative=best_negative, min_count=1, workers=4, seed=seed)\n",
        "\n",
        "    # Convertir las oraciones en vectores\n",
        "    X_train_vect = np.array([vectorize(sentence, model, best_vector_size) for sentence in X_train])\n",
        "    X_test_vect = np.array([vectorize(sentence, model, best_vector_size) for sentence in X_test])\n",
        "\n",
        "    # Normalizar los vectores para Logistic Regression\n",
        "    scaler = StandardScaler()\n",
        "    X_train_vect_scaled = scaler.fit_transform(X_train_vect)\n",
        "    X_test_vect_scaled = scaler.transform(X_test_vect)\n",
        "\n",
        "    # Entrenar y evaluar Random Forest con la semilla aleatoria\n",
        "    rf_classifier = RandomForestClassifier(random_state=seed)\n",
        "    rf_classifier.fit(X_train_vect, y_train)\n",
        "    y_pred_rf = rf_classifier.predict(X_test_vect)\n",
        "    rf_accuracy = accuracy_score(y_test, y_pred_rf)\n",
        "    print(f\"Random Forest Accuracy: {rf_accuracy}\")\n",
        "\n",
        "    # Entrenar y evaluar Logistic Regression con la semilla aleatoria\n",
        "    lr_classifier = LogisticRegression(random_state=seed)\n",
        "    lr_classifier.fit(X_train_vect_scaled, y_train)\n",
        "    y_pred_lr = lr_classifier.predict(X_test_vect_scaled)\n",
        "    lr_accuracy = accuracy_score(y_test, y_pred_lr)\n",
        "    print(f\"Logistic Regression Accuracy: {lr_accuracy}\")\n",
        "\n",
        "# Ejecutar con los mejores parámetros\n",
        "run_best_params(X_train, X_test, y_train, y_test, best_vector_size=200, best_window=10, best_negative=20)\n"
      ],
      "metadata": {
        "colab": {
          "base_uri": "https://localhost:8080/"
        },
        "id": "1j_sgTCwF4xI",
        "outputId": "0dfd1197-3963-4c6b-eb91-472fb64b2bf7"
      },
      "execution_count": 20,
      "outputs": [
        {
          "output_type": "stream",
          "name": "stdout",
          "text": [
            "Random Forest Accuracy: 0.9180622009569378\n",
            "Logistic Regression Accuracy: 0.9270334928229665\n"
          ]
        }
      ]
    },
    {
      "cell_type": "markdown",
      "source": [
        "Se determinó que los mejores parámetros para el modelo fueron vector_size=200, window=10 y negative sampling=20, logrando capturar bien la información relevante del texto."
      ],
      "metadata": {
        "id": "Tzp33WHw7yxC"
      }
    }
  ]
}